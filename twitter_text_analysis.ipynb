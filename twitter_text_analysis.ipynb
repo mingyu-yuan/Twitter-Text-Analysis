{
  "cells": [
    {
      "cell_type": "markdown",
      "metadata": {
        "id": "K-CqUVk6yaUP"
      },
      "source": [
        "## 1. Load packages"
      ]
    },
    {
      "cell_type": "code",
      "execution_count": null,
      "metadata": {
        "colab": {
          "base_uri": "https://localhost:8080/"
        },
        "id": "vu8fcCl0jfTT",
        "outputId": "cc106710-a325-47cb-83ed-d768408add25"
      },
      "outputs": [
        {
          "output_type": "stream",
          "name": "stdout",
          "text": [
            "Looking in indexes: https://pypi.org/simple, https://us-python.pkg.dev/colab-wheels/public/simple/\n",
            "Collecting tweet-preprocessor\n",
            "  Downloading tweet_preprocessor-0.6.0-py3-none-any.whl (27 kB)\n",
            "Installing collected packages: tweet-preprocessor\n",
            "Successfully installed tweet-preprocessor-0.6.0\n",
            "Looking in indexes: https://pypi.org/simple, https://us-python.pkg.dev/colab-wheels/public/simple/\n",
            "Collecting wget\n",
            "  Downloading wget-3.2.zip (10 kB)\n",
            "  Preparing metadata (setup.py) ... \u001b[?25l\u001b[?25hdone\n",
            "Building wheels for collected packages: wget\n",
            "  Building wheel for wget (setup.py) ... \u001b[?25l\u001b[?25hdone\n",
            "  Created wheel for wget: filename=wget-3.2-py3-none-any.whl size=9674 sha256=40df9e62089a6f49a86f4d0925386b2bbea62fd48fa5f1479dc69b00e1c51679\n",
            "  Stored in directory: /root/.cache/pip/wheels/bd/a8/c3/3cf2c14a1837a4e04bd98631724e81f33f462d86a1d895fae0\n",
            "Successfully built wget\n",
            "Installing collected packages: wget\n",
            "Successfully installed wget-3.2\n"
          ]
        }
      ],
      "source": [
        "!pip install tweet-preprocessor\n",
        "!pip install wget"
      ]
    },
    {
      "cell_type": "code",
      "execution_count": null,
      "metadata": {
        "id": "3Bd0Dq0Et3jo"
      },
      "outputs": [],
      "source": [
        "import logging\n",
        "import wget\n",
        "import os\n",
        "import matplotlib.pyplot as plt\n",
        "import re\n",
        "import numpy as np\n",
        "import pandas as pd\n",
        "import preprocessor as p\n",
        "import seaborn as sns\n",
        "%matplotlib inline"
      ]
    },
    {
      "cell_type": "markdown",
      "metadata": {
        "id": "vdkh3e5bzY47"
      },
      "source": [
        "## 2. Download dataset"
      ]
    },
    {
      "cell_type": "code",
      "source": [
        "print('Downloading dataset...')\n",
        "\n",
        "# The URL for the dataset zip file\n",
        "url = 'http://cs.stanford.edu/people/alecmgo/trainingandtestdata.zip'\n",
        "\n",
        "# Download the file \n",
        "wget.download(url)\n",
        "\n",
        "# Unzip the dataset\n",
        "!unzip trainingandtestdata.zip"
      ],
      "metadata": {
        "colab": {
          "base_uri": "https://localhost:8080/"
        },
        "id": "6Yzx2k0dUpGf",
        "outputId": "30ae7ec5-3967-4cc9-de75-8a4ba1c988f2"
      },
      "execution_count": null,
      "outputs": [
        {
          "output_type": "stream",
          "name": "stdout",
          "text": [
            "Downloading dataset...\n",
            "Archive:  trainingandtestdata.zip\n",
            "  inflating: testdata.manual.2009.06.14.csv  \n",
            "  inflating: training.1600000.processed.noemoticon.csv  \n"
          ]
        }
      ]
    },
    {
      "cell_type": "markdown",
      "source": [
        "# 3. EDA"
      ],
      "metadata": {
        "id": "SCVysag65Ze9"
      }
    },
    {
      "cell_type": "code",
      "source": [
        "# load the data into dataframe\n",
        "df = pd.read_csv(\"./training.1600000.processed.noemoticon.csv\", \n",
        "     names=['label', 'twitter_id', 'time', 'query', 'account', 'tweet'],\n",
        "     encoding='latin-1')\n",
        "\n",
        "# print the number of tweets\n",
        "print('Number of tweets: {:,}\\n'.format(df.shape[0]))\n",
        "\n",
        "# sample 10 records from the data\n",
        "df.sample(10)"
      ],
      "metadata": {
        "colab": {
          "base_uri": "https://localhost:8080/",
          "height": 615
        },
        "id": "X-zw7G8O4Xkx",
        "outputId": "a8d7bd83-a6f9-4e2a-9f7d-85d296c01386"
      },
      "execution_count": null,
      "outputs": [
        {
          "output_type": "stream",
          "name": "stdout",
          "text": [
            "Number of tweets: 1,600,000\n",
            "\n"
          ]
        },
        {
          "output_type": "execute_result",
          "data": {
            "text/plain": [
              "         label  twitter_id                          time     query  \\\n",
              "541200       0  2200003196  Tue Jun 16 18:18:12 PDT 2009  NO_QUERY   \n",
              "750          0  1467998485  Mon Apr 06 23:11:14 PDT 2009  NO_QUERY   \n",
              "766711       0  2300048954  Tue Jun 23 13:40:11 PDT 2009  NO_QUERY   \n",
              "285055       0  1993474027  Mon Jun 01 10:26:07 PDT 2009  NO_QUERY   \n",
              "705995       0  2256550904  Sat Jun 20 12:56:51 PDT 2009  NO_QUERY   \n",
              "379611       0  2052380495  Sat Jun 06 00:32:16 PDT 2009  NO_QUERY   \n",
              "1189018      4  1983449090  Sun May 31 13:10:36 PDT 2009  NO_QUERY   \n",
              "667030       0  2245479748  Fri Jun 19 16:11:29 PDT 2009  NO_QUERY   \n",
              "93541        0  1770705699  Mon May 11 22:01:32 PDT 2009  NO_QUERY   \n",
              "1097326      4  1970386589  Sat May 30 03:39:34 PDT 2009  NO_QUERY   \n",
              "\n",
              "                 account                                              tweet  \n",
              "541200   LaLaLindsey0609             @chrishasboobs AHHH I HOPE YOUR OK!!!   \n",
              "750          sexygrneyes  @misstoriblack cool , i have no tweet apps  fo...  \n",
              "766711        sammydearr  @TiannaChaos i know  just family drama. its la...  \n",
              "285055       Lamb_Leanne  School email won't open  and I have geography ...  \n",
              "705995       yogicerdito                             upper airways problem   \n",
              "379611         Yengching         Going to miss Pastor's sermon on Faith...   \n",
              "1189018         jessig06            on lunch....dj should come eat with me   \n",
              "667030    felicityfuller   @piginthepoke oh why are you feeling like that?   \n",
              "93541        stephiiheyy    gahh noo!peyton needs to live!this is horrible   \n",
              "1097326        wyndwitch  @mrstessyman thank you glad you like it! There...  "
            ],
            "text/html": [
              "\n",
              "  <div id=\"df-6bc7922c-8dcd-47e2-b7ae-3a8656695972\">\n",
              "    <div class=\"colab-df-container\">\n",
              "      <div>\n",
              "<style scoped>\n",
              "    .dataframe tbody tr th:only-of-type {\n",
              "        vertical-align: middle;\n",
              "    }\n",
              "\n",
              "    .dataframe tbody tr th {\n",
              "        vertical-align: top;\n",
              "    }\n",
              "\n",
              "    .dataframe thead th {\n",
              "        text-align: right;\n",
              "    }\n",
              "</style>\n",
              "<table border=\"1\" class=\"dataframe\">\n",
              "  <thead>\n",
              "    <tr style=\"text-align: right;\">\n",
              "      <th></th>\n",
              "      <th>label</th>\n",
              "      <th>twitter_id</th>\n",
              "      <th>time</th>\n",
              "      <th>query</th>\n",
              "      <th>account</th>\n",
              "      <th>tweet</th>\n",
              "    </tr>\n",
              "  </thead>\n",
              "  <tbody>\n",
              "    <tr>\n",
              "      <th>541200</th>\n",
              "      <td>0</td>\n",
              "      <td>2200003196</td>\n",
              "      <td>Tue Jun 16 18:18:12 PDT 2009</td>\n",
              "      <td>NO_QUERY</td>\n",
              "      <td>LaLaLindsey0609</td>\n",
              "      <td>@chrishasboobs AHHH I HOPE YOUR OK!!!</td>\n",
              "    </tr>\n",
              "    <tr>\n",
              "      <th>750</th>\n",
              "      <td>0</td>\n",
              "      <td>1467998485</td>\n",
              "      <td>Mon Apr 06 23:11:14 PDT 2009</td>\n",
              "      <td>NO_QUERY</td>\n",
              "      <td>sexygrneyes</td>\n",
              "      <td>@misstoriblack cool , i have no tweet apps  fo...</td>\n",
              "    </tr>\n",
              "    <tr>\n",
              "      <th>766711</th>\n",
              "      <td>0</td>\n",
              "      <td>2300048954</td>\n",
              "      <td>Tue Jun 23 13:40:11 PDT 2009</td>\n",
              "      <td>NO_QUERY</td>\n",
              "      <td>sammydearr</td>\n",
              "      <td>@TiannaChaos i know  just family drama. its la...</td>\n",
              "    </tr>\n",
              "    <tr>\n",
              "      <th>285055</th>\n",
              "      <td>0</td>\n",
              "      <td>1993474027</td>\n",
              "      <td>Mon Jun 01 10:26:07 PDT 2009</td>\n",
              "      <td>NO_QUERY</td>\n",
              "      <td>Lamb_Leanne</td>\n",
              "      <td>School email won't open  and I have geography ...</td>\n",
              "    </tr>\n",
              "    <tr>\n",
              "      <th>705995</th>\n",
              "      <td>0</td>\n",
              "      <td>2256550904</td>\n",
              "      <td>Sat Jun 20 12:56:51 PDT 2009</td>\n",
              "      <td>NO_QUERY</td>\n",
              "      <td>yogicerdito</td>\n",
              "      <td>upper airways problem</td>\n",
              "    </tr>\n",
              "    <tr>\n",
              "      <th>379611</th>\n",
              "      <td>0</td>\n",
              "      <td>2052380495</td>\n",
              "      <td>Sat Jun 06 00:32:16 PDT 2009</td>\n",
              "      <td>NO_QUERY</td>\n",
              "      <td>Yengching</td>\n",
              "      <td>Going to miss Pastor's sermon on Faith...</td>\n",
              "    </tr>\n",
              "    <tr>\n",
              "      <th>1189018</th>\n",
              "      <td>4</td>\n",
              "      <td>1983449090</td>\n",
              "      <td>Sun May 31 13:10:36 PDT 2009</td>\n",
              "      <td>NO_QUERY</td>\n",
              "      <td>jessig06</td>\n",
              "      <td>on lunch....dj should come eat with me</td>\n",
              "    </tr>\n",
              "    <tr>\n",
              "      <th>667030</th>\n",
              "      <td>0</td>\n",
              "      <td>2245479748</td>\n",
              "      <td>Fri Jun 19 16:11:29 PDT 2009</td>\n",
              "      <td>NO_QUERY</td>\n",
              "      <td>felicityfuller</td>\n",
              "      <td>@piginthepoke oh why are you feeling like that?</td>\n",
              "    </tr>\n",
              "    <tr>\n",
              "      <th>93541</th>\n",
              "      <td>0</td>\n",
              "      <td>1770705699</td>\n",
              "      <td>Mon May 11 22:01:32 PDT 2009</td>\n",
              "      <td>NO_QUERY</td>\n",
              "      <td>stephiiheyy</td>\n",
              "      <td>gahh noo!peyton needs to live!this is horrible</td>\n",
              "    </tr>\n",
              "    <tr>\n",
              "      <th>1097326</th>\n",
              "      <td>4</td>\n",
              "      <td>1970386589</td>\n",
              "      <td>Sat May 30 03:39:34 PDT 2009</td>\n",
              "      <td>NO_QUERY</td>\n",
              "      <td>wyndwitch</td>\n",
              "      <td>@mrstessyman thank you glad you like it! There...</td>\n",
              "    </tr>\n",
              "  </tbody>\n",
              "</table>\n",
              "</div>\n",
              "      <button class=\"colab-df-convert\" onclick=\"convertToInteractive('df-6bc7922c-8dcd-47e2-b7ae-3a8656695972')\"\n",
              "              title=\"Convert this dataframe to an interactive table.\"\n",
              "              style=\"display:none;\">\n",
              "        \n",
              "  <svg xmlns=\"http://www.w3.org/2000/svg\" height=\"24px\"viewBox=\"0 0 24 24\"\n",
              "       width=\"24px\">\n",
              "    <path d=\"M0 0h24v24H0V0z\" fill=\"none\"/>\n",
              "    <path d=\"M18.56 5.44l.94 2.06.94-2.06 2.06-.94-2.06-.94-.94-2.06-.94 2.06-2.06.94zm-11 1L8.5 8.5l.94-2.06 2.06-.94-2.06-.94L8.5 2.5l-.94 2.06-2.06.94zm10 10l.94 2.06.94-2.06 2.06-.94-2.06-.94-.94-2.06-.94 2.06-2.06.94z\"/><path d=\"M17.41 7.96l-1.37-1.37c-.4-.4-.92-.59-1.43-.59-.52 0-1.04.2-1.43.59L10.3 9.45l-7.72 7.72c-.78.78-.78 2.05 0 2.83L4 21.41c.39.39.9.59 1.41.59.51 0 1.02-.2 1.41-.59l7.78-7.78 2.81-2.81c.8-.78.8-2.07 0-2.86zM5.41 20L4 18.59l7.72-7.72 1.47 1.35L5.41 20z\"/>\n",
              "  </svg>\n",
              "      </button>\n",
              "      \n",
              "  <style>\n",
              "    .colab-df-container {\n",
              "      display:flex;\n",
              "      flex-wrap:wrap;\n",
              "      gap: 12px;\n",
              "    }\n",
              "\n",
              "    .colab-df-convert {\n",
              "      background-color: #E8F0FE;\n",
              "      border: none;\n",
              "      border-radius: 50%;\n",
              "      cursor: pointer;\n",
              "      display: none;\n",
              "      fill: #1967D2;\n",
              "      height: 32px;\n",
              "      padding: 0 0 0 0;\n",
              "      width: 32px;\n",
              "    }\n",
              "\n",
              "    .colab-df-convert:hover {\n",
              "      background-color: #E2EBFA;\n",
              "      box-shadow: 0px 1px 2px rgba(60, 64, 67, 0.3), 0px 1px 3px 1px rgba(60, 64, 67, 0.15);\n",
              "      fill: #174EA6;\n",
              "    }\n",
              "\n",
              "    [theme=dark] .colab-df-convert {\n",
              "      background-color: #3B4455;\n",
              "      fill: #D2E3FC;\n",
              "    }\n",
              "\n",
              "    [theme=dark] .colab-df-convert:hover {\n",
              "      background-color: #434B5C;\n",
              "      box-shadow: 0px 1px 3px 1px rgba(0, 0, 0, 0.15);\n",
              "      filter: drop-shadow(0px 1px 2px rgba(0, 0, 0, 0.3));\n",
              "      fill: #FFFFFF;\n",
              "    }\n",
              "  </style>\n",
              "\n",
              "      <script>\n",
              "        const buttonEl =\n",
              "          document.querySelector('#df-6bc7922c-8dcd-47e2-b7ae-3a8656695972 button.colab-df-convert');\n",
              "        buttonEl.style.display =\n",
              "          google.colab.kernel.accessAllowed ? 'block' : 'none';\n",
              "\n",
              "        async function convertToInteractive(key) {\n",
              "          const element = document.querySelector('#df-6bc7922c-8dcd-47e2-b7ae-3a8656695972');\n",
              "          const dataTable =\n",
              "            await google.colab.kernel.invokeFunction('convertToInteractive',\n",
              "                                                     [key], {});\n",
              "          if (!dataTable) return;\n",
              "\n",
              "          const docLinkHtml = 'Like what you see? Visit the ' +\n",
              "            '<a target=\"_blank\" href=https://colab.research.google.com/notebooks/data_table.ipynb>data table notebook</a>'\n",
              "            + ' to learn more about interactive tables.';\n",
              "          element.innerHTML = '';\n",
              "          dataTable['output_type'] = 'display_data';\n",
              "          await google.colab.output.renderOutput(dataTable, element);\n",
              "          const docLink = document.createElement('div');\n",
              "          docLink.innerHTML = docLinkHtml;\n",
              "          element.appendChild(docLink);\n",
              "        }\n",
              "      </script>\n",
              "    </div>\n",
              "  </div>\n",
              "  "
            ]
          },
          "metadata": {},
          "execution_count": 13
        }
      ]
    },
    {
      "cell_type": "code",
      "execution_count": null,
      "metadata": {
        "colab": {
          "base_uri": "https://localhost:8080/"
        },
        "id": "Nw_N4brUUiRc",
        "outputId": "1a352c91-c9a3-4c6a-9a02-3a9b5d484c24"
      },
      "outputs": [
        {
          "output_type": "stream",
          "name": "stdout",
          "text": [
            "1598315\n",
            "659775\n"
          ]
        }
      ],
      "source": [
        "# number of unique id\n",
        "print(df['twitter_id'].nunique())\n",
        "\n",
        "# number of unique account\n",
        "print(df['account'].nunique())"
      ]
    },
    {
      "cell_type": "code",
      "execution_count": null,
      "metadata": {
        "id": "Z6Gl18PvUiRc",
        "colab": {
          "base_uri": "https://localhost:8080/"
        },
        "outputId": "f7d2e360-ab68-4c0f-eb45-ba25b2c51c5f"
      },
      "outputs": [
        {
          "output_type": "execute_result",
          "data": {
            "text/plain": [
              "1"
            ]
          },
          "metadata": {},
          "execution_count": 6
        }
      ],
      "source": [
        "# split the date column into week, month, day, time, timezone, year\n",
        "df[['week','month','day','time','timezone','year']] = df['time'].str.split(\" \", expand=True)\n",
        "\n",
        "# check if time is normalized (if the timezone is the same)\n",
        "df['timezone'].nunique()"
      ]
    },
    {
      "cell_type": "code",
      "execution_count": null,
      "metadata": {
        "id": "44SxW6mfUiRc",
        "colab": {
          "base_uri": "https://localhost:8080/",
          "height": 423
        },
        "outputId": "6d74675b-c807-40d9-a6cb-d2a0dd6edeb5"
      },
      "outputs": [
        {
          "output_type": "execute_result",
          "data": {
            "text/plain": [
              "         label  twitter_id      time     query          account  \\\n",
              "0            0  1467810369  22:19:45  NO_QUERY  _TheSpecialOne_   \n",
              "1            0  1467810672  22:19:49  NO_QUERY    scotthamilton   \n",
              "2            0  1467810917  22:19:53  NO_QUERY         mattycus   \n",
              "3            0  1467811184  22:19:57  NO_QUERY          ElleCTF   \n",
              "4            0  1467811193  22:19:57  NO_QUERY           Karoli   \n",
              "...        ...         ...       ...       ...              ...   \n",
              "1599995      4  2193601966  08:40:49  NO_QUERY  AmandaMarie1028   \n",
              "1599996      4  2193601969  08:40:49  NO_QUERY      TheWDBoards   \n",
              "1599997      4  2193601991  08:40:49  NO_QUERY           bpbabe   \n",
              "1599998      4  2193602064  08:40:49  NO_QUERY     tinydiamondz   \n",
              "1599999      4  2193602129  08:40:50  NO_QUERY   RyanTrevMorris   \n",
              "\n",
              "                                                     tweet week month day  \\\n",
              "0        @switchfoot http://twitpic.com/2y1zl - Awww, t...  Mon   Apr  06   \n",
              "1        is upset that he can't update his Facebook by ...  Mon   Apr  06   \n",
              "2        @Kenichan I dived many times for the ball. Man...  Mon   Apr  06   \n",
              "3          my whole body feels itchy and like its on fire   Mon   Apr  06   \n",
              "4        @nationwideclass no, it's not behaving at all....  Mon   Apr  06   \n",
              "...                                                    ...  ...   ...  ..   \n",
              "1599995  Just woke up. Having no school is the best fee...  Tue   Jun  16   \n",
              "1599996  TheWDB.com - Very cool to hear old Walt interv...  Tue   Jun  16   \n",
              "1599997  Are you ready for your MoJo Makeover? Ask me f...  Tue   Jun  16   \n",
              "1599998  Happy 38th Birthday to my boo of alll time!!! ...  Tue   Jun  16   \n",
              "1599999  happy #charitytuesday @theNSPCC @SparksCharity...  Tue   Jun  16   \n",
              "\n",
              "        timezone  year  \n",
              "0            PDT  2009  \n",
              "1            PDT  2009  \n",
              "2            PDT  2009  \n",
              "3            PDT  2009  \n",
              "4            PDT  2009  \n",
              "...          ...   ...  \n",
              "1599995      PDT  2009  \n",
              "1599996      PDT  2009  \n",
              "1599997      PDT  2009  \n",
              "1599998      PDT  2009  \n",
              "1599999      PDT  2009  \n",
              "\n",
              "[1600000 rows x 11 columns]"
            ],
            "text/html": [
              "\n",
              "  <div id=\"df-4be4f3d8-2215-453a-a06a-1c4c68b1c809\">\n",
              "    <div class=\"colab-df-container\">\n",
              "      <div>\n",
              "<style scoped>\n",
              "    .dataframe tbody tr th:only-of-type {\n",
              "        vertical-align: middle;\n",
              "    }\n",
              "\n",
              "    .dataframe tbody tr th {\n",
              "        vertical-align: top;\n",
              "    }\n",
              "\n",
              "    .dataframe thead th {\n",
              "        text-align: right;\n",
              "    }\n",
              "</style>\n",
              "<table border=\"1\" class=\"dataframe\">\n",
              "  <thead>\n",
              "    <tr style=\"text-align: right;\">\n",
              "      <th></th>\n",
              "      <th>label</th>\n",
              "      <th>twitter_id</th>\n",
              "      <th>time</th>\n",
              "      <th>query</th>\n",
              "      <th>account</th>\n",
              "      <th>tweet</th>\n",
              "      <th>week</th>\n",
              "      <th>month</th>\n",
              "      <th>day</th>\n",
              "      <th>timezone</th>\n",
              "      <th>year</th>\n",
              "    </tr>\n",
              "  </thead>\n",
              "  <tbody>\n",
              "    <tr>\n",
              "      <th>0</th>\n",
              "      <td>0</td>\n",
              "      <td>1467810369</td>\n",
              "      <td>22:19:45</td>\n",
              "      <td>NO_QUERY</td>\n",
              "      <td>_TheSpecialOne_</td>\n",
              "      <td>@switchfoot http://twitpic.com/2y1zl - Awww, t...</td>\n",
              "      <td>Mon</td>\n",
              "      <td>Apr</td>\n",
              "      <td>06</td>\n",
              "      <td>PDT</td>\n",
              "      <td>2009</td>\n",
              "    </tr>\n",
              "    <tr>\n",
              "      <th>1</th>\n",
              "      <td>0</td>\n",
              "      <td>1467810672</td>\n",
              "      <td>22:19:49</td>\n",
              "      <td>NO_QUERY</td>\n",
              "      <td>scotthamilton</td>\n",
              "      <td>is upset that he can't update his Facebook by ...</td>\n",
              "      <td>Mon</td>\n",
              "      <td>Apr</td>\n",
              "      <td>06</td>\n",
              "      <td>PDT</td>\n",
              "      <td>2009</td>\n",
              "    </tr>\n",
              "    <tr>\n",
              "      <th>2</th>\n",
              "      <td>0</td>\n",
              "      <td>1467810917</td>\n",
              "      <td>22:19:53</td>\n",
              "      <td>NO_QUERY</td>\n",
              "      <td>mattycus</td>\n",
              "      <td>@Kenichan I dived many times for the ball. Man...</td>\n",
              "      <td>Mon</td>\n",
              "      <td>Apr</td>\n",
              "      <td>06</td>\n",
              "      <td>PDT</td>\n",
              "      <td>2009</td>\n",
              "    </tr>\n",
              "    <tr>\n",
              "      <th>3</th>\n",
              "      <td>0</td>\n",
              "      <td>1467811184</td>\n",
              "      <td>22:19:57</td>\n",
              "      <td>NO_QUERY</td>\n",
              "      <td>ElleCTF</td>\n",
              "      <td>my whole body feels itchy and like its on fire</td>\n",
              "      <td>Mon</td>\n",
              "      <td>Apr</td>\n",
              "      <td>06</td>\n",
              "      <td>PDT</td>\n",
              "      <td>2009</td>\n",
              "    </tr>\n",
              "    <tr>\n",
              "      <th>4</th>\n",
              "      <td>0</td>\n",
              "      <td>1467811193</td>\n",
              "      <td>22:19:57</td>\n",
              "      <td>NO_QUERY</td>\n",
              "      <td>Karoli</td>\n",
              "      <td>@nationwideclass no, it's not behaving at all....</td>\n",
              "      <td>Mon</td>\n",
              "      <td>Apr</td>\n",
              "      <td>06</td>\n",
              "      <td>PDT</td>\n",
              "      <td>2009</td>\n",
              "    </tr>\n",
              "    <tr>\n",
              "      <th>...</th>\n",
              "      <td>...</td>\n",
              "      <td>...</td>\n",
              "      <td>...</td>\n",
              "      <td>...</td>\n",
              "      <td>...</td>\n",
              "      <td>...</td>\n",
              "      <td>...</td>\n",
              "      <td>...</td>\n",
              "      <td>...</td>\n",
              "      <td>...</td>\n",
              "      <td>...</td>\n",
              "    </tr>\n",
              "    <tr>\n",
              "      <th>1599995</th>\n",
              "      <td>4</td>\n",
              "      <td>2193601966</td>\n",
              "      <td>08:40:49</td>\n",
              "      <td>NO_QUERY</td>\n",
              "      <td>AmandaMarie1028</td>\n",
              "      <td>Just woke up. Having no school is the best fee...</td>\n",
              "      <td>Tue</td>\n",
              "      <td>Jun</td>\n",
              "      <td>16</td>\n",
              "      <td>PDT</td>\n",
              "      <td>2009</td>\n",
              "    </tr>\n",
              "    <tr>\n",
              "      <th>1599996</th>\n",
              "      <td>4</td>\n",
              "      <td>2193601969</td>\n",
              "      <td>08:40:49</td>\n",
              "      <td>NO_QUERY</td>\n",
              "      <td>TheWDBoards</td>\n",
              "      <td>TheWDB.com - Very cool to hear old Walt interv...</td>\n",
              "      <td>Tue</td>\n",
              "      <td>Jun</td>\n",
              "      <td>16</td>\n",
              "      <td>PDT</td>\n",
              "      <td>2009</td>\n",
              "    </tr>\n",
              "    <tr>\n",
              "      <th>1599997</th>\n",
              "      <td>4</td>\n",
              "      <td>2193601991</td>\n",
              "      <td>08:40:49</td>\n",
              "      <td>NO_QUERY</td>\n",
              "      <td>bpbabe</td>\n",
              "      <td>Are you ready for your MoJo Makeover? Ask me f...</td>\n",
              "      <td>Tue</td>\n",
              "      <td>Jun</td>\n",
              "      <td>16</td>\n",
              "      <td>PDT</td>\n",
              "      <td>2009</td>\n",
              "    </tr>\n",
              "    <tr>\n",
              "      <th>1599998</th>\n",
              "      <td>4</td>\n",
              "      <td>2193602064</td>\n",
              "      <td>08:40:49</td>\n",
              "      <td>NO_QUERY</td>\n",
              "      <td>tinydiamondz</td>\n",
              "      <td>Happy 38th Birthday to my boo of alll time!!! ...</td>\n",
              "      <td>Tue</td>\n",
              "      <td>Jun</td>\n",
              "      <td>16</td>\n",
              "      <td>PDT</td>\n",
              "      <td>2009</td>\n",
              "    </tr>\n",
              "    <tr>\n",
              "      <th>1599999</th>\n",
              "      <td>4</td>\n",
              "      <td>2193602129</td>\n",
              "      <td>08:40:50</td>\n",
              "      <td>NO_QUERY</td>\n",
              "      <td>RyanTrevMorris</td>\n",
              "      <td>happy #charitytuesday @theNSPCC @SparksCharity...</td>\n",
              "      <td>Tue</td>\n",
              "      <td>Jun</td>\n",
              "      <td>16</td>\n",
              "      <td>PDT</td>\n",
              "      <td>2009</td>\n",
              "    </tr>\n",
              "  </tbody>\n",
              "</table>\n",
              "<p>1600000 rows × 11 columns</p>\n",
              "</div>\n",
              "      <button class=\"colab-df-convert\" onclick=\"convertToInteractive('df-4be4f3d8-2215-453a-a06a-1c4c68b1c809')\"\n",
              "              title=\"Convert this dataframe to an interactive table.\"\n",
              "              style=\"display:none;\">\n",
              "        \n",
              "  <svg xmlns=\"http://www.w3.org/2000/svg\" height=\"24px\"viewBox=\"0 0 24 24\"\n",
              "       width=\"24px\">\n",
              "    <path d=\"M0 0h24v24H0V0z\" fill=\"none\"/>\n",
              "    <path d=\"M18.56 5.44l.94 2.06.94-2.06 2.06-.94-2.06-.94-.94-2.06-.94 2.06-2.06.94zm-11 1L8.5 8.5l.94-2.06 2.06-.94-2.06-.94L8.5 2.5l-.94 2.06-2.06.94zm10 10l.94 2.06.94-2.06 2.06-.94-2.06-.94-.94-2.06-.94 2.06-2.06.94z\"/><path d=\"M17.41 7.96l-1.37-1.37c-.4-.4-.92-.59-1.43-.59-.52 0-1.04.2-1.43.59L10.3 9.45l-7.72 7.72c-.78.78-.78 2.05 0 2.83L4 21.41c.39.39.9.59 1.41.59.51 0 1.02-.2 1.41-.59l7.78-7.78 2.81-2.81c.8-.78.8-2.07 0-2.86zM5.41 20L4 18.59l7.72-7.72 1.47 1.35L5.41 20z\"/>\n",
              "  </svg>\n",
              "      </button>\n",
              "      \n",
              "  <style>\n",
              "    .colab-df-container {\n",
              "      display:flex;\n",
              "      flex-wrap:wrap;\n",
              "      gap: 12px;\n",
              "    }\n",
              "\n",
              "    .colab-df-convert {\n",
              "      background-color: #E8F0FE;\n",
              "      border: none;\n",
              "      border-radius: 50%;\n",
              "      cursor: pointer;\n",
              "      display: none;\n",
              "      fill: #1967D2;\n",
              "      height: 32px;\n",
              "      padding: 0 0 0 0;\n",
              "      width: 32px;\n",
              "    }\n",
              "\n",
              "    .colab-df-convert:hover {\n",
              "      background-color: #E2EBFA;\n",
              "      box-shadow: 0px 1px 2px rgba(60, 64, 67, 0.3), 0px 1px 3px 1px rgba(60, 64, 67, 0.15);\n",
              "      fill: #174EA6;\n",
              "    }\n",
              "\n",
              "    [theme=dark] .colab-df-convert {\n",
              "      background-color: #3B4455;\n",
              "      fill: #D2E3FC;\n",
              "    }\n",
              "\n",
              "    [theme=dark] .colab-df-convert:hover {\n",
              "      background-color: #434B5C;\n",
              "      box-shadow: 0px 1px 3px 1px rgba(0, 0, 0, 0.15);\n",
              "      filter: drop-shadow(0px 1px 2px rgba(0, 0, 0, 0.3));\n",
              "      fill: #FFFFFF;\n",
              "    }\n",
              "  </style>\n",
              "\n",
              "      <script>\n",
              "        const buttonEl =\n",
              "          document.querySelector('#df-4be4f3d8-2215-453a-a06a-1c4c68b1c809 button.colab-df-convert');\n",
              "        buttonEl.style.display =\n",
              "          google.colab.kernel.accessAllowed ? 'block' : 'none';\n",
              "\n",
              "        async function convertToInteractive(key) {\n",
              "          const element = document.querySelector('#df-4be4f3d8-2215-453a-a06a-1c4c68b1c809');\n",
              "          const dataTable =\n",
              "            await google.colab.kernel.invokeFunction('convertToInteractive',\n",
              "                                                     [key], {});\n",
              "          if (!dataTable) return;\n",
              "\n",
              "          const docLinkHtml = 'Like what you see? Visit the ' +\n",
              "            '<a target=\"_blank\" href=https://colab.research.google.com/notebooks/data_table.ipynb>data table notebook</a>'\n",
              "            + ' to learn more about interactive tables.';\n",
              "          element.innerHTML = '';\n",
              "          dataTable['output_type'] = 'display_data';\n",
              "          await google.colab.output.renderOutput(dataTable, element);\n",
              "          const docLink = document.createElement('div');\n",
              "          docLink.innerHTML = docLinkHtml;\n",
              "          element.appendChild(docLink);\n",
              "        }\n",
              "      </script>\n",
              "    </div>\n",
              "  </div>\n",
              "  "
            ]
          },
          "metadata": {},
          "execution_count": 7
        }
      ],
      "source": [
        "df"
      ]
    },
    {
      "cell_type": "markdown",
      "source": [
        "# 4. Extract mentions"
      ],
      "metadata": {
        "id": "wNuN3KnQ5fFy"
      }
    },
    {
      "cell_type": "code",
      "execution_count": null,
      "metadata": {
        "id": "04IClm3oUiRc",
        "colab": {
          "base_uri": "https://localhost:8080/"
        },
        "outputId": "612e43e2-9f49-4f47-f230-10e573441cff"
      },
      "outputs": [
        {
          "output_type": "stream",
          "name": "stdout",
          "text": [
            "@switchfoot http://twitpic.com/2y1zl - Awww, that's a bummer.  You shoulda got David Carr of Third Day to do it. ;D\n",
            "['switchfoot']\n"
          ]
        }
      ],
      "source": [
        "# write a regex to match the pattern for mention\n",
        "mentions_re = r'(?<=@)\\w+'\n",
        "# print the first tweet\n",
        "print(df[\"tweet\"].iloc[0])\n",
        "\"@switchfoot http://twitpic.com/2y1zl - Awww, that's a bummer.  You shoulda got David Carr of Third Day to do it. ;D\"\n",
        "\n",
        "# print the mention in the first tweet \n",
        "print(re.findall(mentions_re, df[\"tweet\"].iloc[0]))"
      ]
    },
    {
      "cell_type": "code",
      "execution_count": null,
      "metadata": {
        "id": "QVsBibCLUiRc",
        "colab": {
          "base_uri": "https://localhost:8080/"
        },
        "outputId": "d250cc57-af1f-4ee8-fc49-bd4f917439b0"
      },
      "outputs": [
        {
          "output_type": "execute_result",
          "data": {
            "text/plain": [
              "mileycyrus       4580\n",
              "tommcfly         3904\n",
              "ddlovato         3474\n",
              "jonasbrothers    2384\n",
              "davidarchie      1386\n",
              "Name: mentions, dtype: int64"
            ]
          },
          "metadata": {},
          "execution_count": 9
        }
      ],
      "source": [
        "# write a function to extract all of the mentions from each tweet\n",
        "def extract_mentions(full_texts):\n",
        "   mentions = pd.DataFrame(full_texts.str.lower().str.findall(mentions_re).explode().dropna())\n",
        "   mentions.columns = [\"mentions\"]\n",
        "   mentions = mentions.merge(df['label'], left_index=True, right_index=True, how='left')\n",
        "   return mentions\n",
        "\n",
        "# apply the function to the tweet column\n",
        "mentions = extract_mentions(df['tweet'])\n",
        "mentions['mentions'].value_counts()[:5]"
      ]
    },
    {
      "cell_type": "code",
      "source": [
        "# pivot the table\n",
        "by_week = pd.pivot_table(df, values='year', index=['label'], columns=['week'], aggfunc='count')\n",
        "cols = ['Sun', 'Mon', 'Tue', 'Wed', 'Thu', 'Fri', 'Sat']\n",
        "by_week[cols] = by_week[cols] / by_week[cols].sum()\n",
        "by_week = by_week.transpose().reindex(cols)\n",
        "by_week.index.name = None\n",
        "by_week.columns.name = None\n",
        "\n",
        "# plot the proportion of tweets with negative polarity across the whole week\n",
        "sns.lineplot(data=by_week, x=by_week.index, y=0, color='forestgreen')\n",
        "plt.title('')\n",
        "plt.legend(loc=2)\n",
        "plt.xlabel(\"Week of the Day\")\n",
        "plt.ylabel(\"Average Polarity\")\n",
        "plt.grid()\n",
        "plt.show()"
      ],
      "metadata": {
        "colab": {
          "base_uri": "https://localhost:8080/",
          "height": 296
        },
        "id": "s95h62S_MydU",
        "outputId": "7c086e5e-8a99-4b1a-b835-1a3cbf9d6fc9"
      },
      "execution_count": null,
      "outputs": [
        {
          "output_type": "stream",
          "name": "stderr",
          "text": [
            "WARNING:matplotlib.legend:No artists with labels found to put in legend.  Note that artists whose label start with an underscore are ignored when legend() is called with no argument.\n"
          ]
        },
        {
          "output_type": "display_data",
          "data": {
            "text/plain": [
              "<Figure size 432x288 with 1 Axes>"
            ],
            "image/png": "[encoded data removed]"
          },
          "metadata": {
            "needs_background": "light"
          }
        }
      ]
    },
    {
      "cell_type": "code",
      "source": [
        "df.to_csv('tweet_sent.csv')"
      ],
      "metadata": {
        "id": "BKMdW_8NKws1"
      },
      "execution_count": null,
      "outputs": []
    },
    {
      "cell_type": "markdown",
      "source": [
        "# Sentiment Analysis with BERT"
      ],
      "metadata": {
        "id": "1iy0HrZLKxLA"
      }
    },
    {
      "cell_type": "code",
      "source": [
        "!nvidia-smi"
      ],
      "metadata": {
        "colab": {
          "base_uri": "https://localhost:8080/"
        },
        "id": "NYyes_5Ws-N6",
        "outputId": "c4078709-f994-4431-ff7e-92736950d364"
      },
      "execution_count": 1,
      "outputs": [
        {
          "output_type": "stream",
          "name": "stdout",
          "text": [
            "Sun Mar  5 05:00:41 2023       \n",
            "+-----------------------------------------------------------------------------+\n",
            "| NVIDIA-SMI 525.85.12    Driver Version: 525.85.12    CUDA Version: 12.0     |\n",
            "|-------------------------------+----------------------+----------------------+\n",
            "| GPU  Name        Persistence-M| Bus-Id        Disp.A | Volatile Uncorr. ECC |\n",
            "| Fan  Temp  Perf  Pwr:Usage/Cap|         Memory-Usage | GPU-Util  Compute M. |\n",
            "|                               |                      |               MIG M. |\n",
            "|===============================+======================+======================|\n",
            "|   0  Tesla T4            Off  | 00000000:00:04.0 Off |                    0 |\n",
            "| N/A   60C    P0    26W /  70W |      0MiB / 15360MiB |      0%      Default |\n",
            "|                               |                      |                  N/A |\n",
            "+-------------------------------+----------------------+----------------------+\n",
            "                                                                               \n",
            "+-----------------------------------------------------------------------------+\n",
            "| Processes:                                                                  |\n",
            "|  GPU   GI   CI        PID   Type   Process name                  GPU Memory |\n",
            "|        ID   ID                                                   Usage      |\n",
            "|=============================================================================|\n",
            "|  No running processes found                                                 |\n",
            "+-----------------------------------------------------------------------------+\n"
          ]
        }
      ]
    },
    {
      "cell_type": "code",
      "source": [
        "!pip install -q -U watermark"
      ],
      "metadata": {
        "id": "BePipvnUKwvR"
      },
      "execution_count": 2,
      "outputs": []
    },
    {
      "cell_type": "code",
      "source": [
        "!pip install -qq transformers"
      ],
      "metadata": {
        "id": "5uSs5cL0tC0-"
      },
      "execution_count": 3,
      "outputs": []
    },
    {
      "cell_type": "code",
      "source": [
        "%reload_ext watermark\n",
        "%watermark -v -p numpy,pandas,torch,transformers"
      ],
      "metadata": {
        "colab": {
          "base_uri": "https://localhost:8080/"
        },
        "id": "soMGtiittVem",
        "outputId": "b8593c2b-f732-4b3f-aac1-36dfcb4d206b"
      },
      "execution_count": 4,
      "outputs": [
        {
          "output_type": "stream",
          "name": "stdout",
          "text": [
            "Python implementation: CPython\n",
            "Python version       : 3.8.10\n",
            "IPython version      : 7.9.0\n",
            "\n",
            "numpy       : 1.22.4\n",
            "pandas      : 1.3.5\n",
            "torch       : 1.13.1+cu116\n",
            "transformers: 4.26.1\n",
            "\n"
          ]
        }
      ]
    },
    {
      "cell_type": "code",
      "source": [
        "#@title Setup & Config\n",
        "import transformers\n",
        "from transformers import BertModel, BertTokenizer, AdamW, get_linear_schedule_with_warmup\n",
        "import torch\n",
        "from torch import nn, optim\n",
        "from torch.utils.data import Dataset, DataLoader\n",
        "import torch.nn.functional as F\n",
        "\n",
        "import numpy as np\n",
        "import pandas as pd\n",
        "import seaborn as sns\n",
        "import matplotlib.pyplot as plt\n",
        "\n",
        "from sklearn.model_selection import train_test_split\n",
        "from sklearn.metrics import confusion_matrix, classification_report\n",
        "from collections import defaultdict\n",
        "from textwrap import wrap\n",
        "\n",
        "\n",
        "%matplotlib inline\n",
        "%config InlineBackend.figure_format='retina'\n",
        "\n",
        "# sns.set(style='whitegrid', palette='muted', font_scale=1.2)\n",
        "\n",
        "# HAPPY_COLORS_PALETTE = [\"#01BEFE\", \"#FFDD00\", \"#FF7D00\", \"#FF006D\", \"#ADFF02\", \"#8F00FF\"]\n",
        "\n",
        "# sns.set_palette(sns.color_palette(HAPPY_COLORS_PALETTE))\n",
        "\n",
        "# rcParams['figure.figsize'] = 12, 8\n",
        "\n",
        "# RANDOM_SEED = 42\n",
        "# np.random.seed(RANDOM_SEED)\n",
        "# torch.manual_seed(RANDOM_SEED)\n",
        "\n",
        "device = torch.device(\"cuda:0\" if torch.cuda.is_available() else \"cpu\")"
      ],
      "metadata": {
        "id": "1-NXGQfDKwxW",
        "cellView": "form"
      },
      "execution_count": 5,
      "outputs": []
    },
    {
      "cell_type": "markdown",
      "source": [
        "## Train-test split"
      ],
      "metadata": {
        "id": "BDp67BfVIcRn"
      }
    },
    {
      "cell_type": "code",
      "source": [
        "# Build a BERT based tokenizer\n",
        "tokenizer = BertTokenizer.from_pretrained('bert-base-cased')"
      ],
      "metadata": {
        "id": "tLJcF_odLVGq"
      },
      "execution_count": 6,
      "outputs": []
    },
    {
      "cell_type": "code",
      "source": [
        "df_model = pd.concat([df.loc[df['label'] == 0].sample(frac=0.01), df.loc[df['label'] == 4].sample(frac=0.01)])\n",
        "# df_model.to_csv('tweet_sent_model.csv')\n",
        "# df_model = pd.read_csv('tweet_sent_model.csv')\n",
        "df_model.loc[df_model[\"label\"] == 4, \"label\"] = 1"
      ],
      "metadata": {
        "id": "V_vV-243Ln9c"
      },
      "execution_count": 7,
      "outputs": []
    },
    {
      "cell_type": "code",
      "source": [
        "# store length of each tweet\n",
        "token_lens = []\n",
        "\n",
        "# iterate through the tweet column\n",
        "for txt in df_model.tweet:\n",
        "   tokens = tokenizer.encode(txt)\n",
        "   token_lens.append(len(tokens))"
      ],
      "metadata": {
        "id": "h3uCoemNLkUP"
      },
      "execution_count": 8,
      "outputs": []
    },
    {
      "cell_type": "code",
      "source": [
        "# plot the distribution of tweet lengths \n",
        "sns.distplot(token_lens)\n",
        "plt.xlim([0, 200])\n",
        "plt.xlabel('Token count');"
      ],
      "metadata": {
        "colab": {
          "base_uri": "https://localhost:8080/",
          "height": 333
        },
        "id": "RPQ8h4pGLkWT",
        "outputId": "d28fccc5-be84-4cc4-bfdf-424effa161d4"
      },
      "execution_count": 9,
      "outputs": [
        {
          "output_type": "stream",
          "name": "stderr",
          "text": [
            "/usr/local/lib/python3.8/dist-packages/seaborn/distributions.py:2619: FutureWarning: `distplot` is a deprecated function and will be removed in a future version. Please adapt your code to use either `displot` (a figure-level function with similar flexibility) or `histplot` (an axes-level function for histograms).\n",
            "  warnings.warn(msg, FutureWarning)\n"
          ]
        },
        {
          "output_type": "display_data",
          "data": {
            "text/plain": [
              "<Figure size 432x288 with 1 Axes>"
            ],
            "image/png": "[encoded data removed]"
          },
          "metadata": {
            "image/png": {
              "width": 401,
              "height": 261
            },
            "needs_background": "light"
          }
        }
      ]
    },
    {
      "cell_type": "code",
      "source": [
        "df_train, df_test = train_test_split(df_model, test_size=0.1, random_state=42)\n",
        "df_val, df_test = train_test_split(df_test, test_size=0.5, random_state=42)"
      ],
      "metadata": {
        "id": "g75sxCkyPrzK"
      },
      "execution_count": 10,
      "outputs": []
    },
    {
      "cell_type": "markdown",
      "source": [
        "## Build the classifier"
      ],
      "metadata": {
        "id": "afBXT-uHG5Vm"
      }
    },
    {
      "cell_type": "code",
      "source": [
        "# create a tokenizer\n",
        "class GPReviewDataset(Dataset):\n",
        "\n",
        "  def __init__(self, reviews, targets, tokenizer, max_len):\n",
        "    self.reviews = reviews\n",
        "    self.targets = targets\n",
        "    self.tokenizer = tokenizer\n",
        "    self.max_len = max_len\n",
        "  \n",
        "  def __len__(self):\n",
        "    return len(self.reviews)\n",
        "  \n",
        "  def __getitem__(self, item):\n",
        "    review = str(self.reviews[item])\n",
        "    target = self.targets[item]\n",
        "\n",
        "    encoding = self.tokenizer.encode_plus(\n",
        "      review,\n",
        "      add_special_tokens=True,\n",
        "      max_length=self.max_len,\n",
        "      return_token_type_ids=False,\n",
        "      padding='max_length',\n",
        "      return_attention_mask=True,\n",
        "      return_tensors='pt',\n",
        "    )\n",
        "\n",
        "    return {\n",
        "      'review_text': review,\n",
        "      'input_ids': encoding['input_ids'].flatten(),\n",
        "      'attention_mask': encoding['attention_mask'].flatten(),\n",
        "      'targets': torch.tensor(target, dtype=torch.long)\n",
        "    }"
      ],
      "metadata": {
        "id": "W7-sLjrNPpWh"
      },
      "execution_count": 12,
      "outputs": []
    },
    {
      "cell_type": "code",
      "source": [
        "# create a data loader\n",
        "def create_data_loader(df, tokenizer, max_len, batch_size):\n",
        "  ds = GPReviewDataset(\n",
        "    reviews=df.tweet.to_numpy(),\n",
        "    targets=df.label.to_numpy(),\n",
        "    tokenizer=tokenizer,\n",
        "    max_len=max_len\n",
        "  )\n",
        "\n",
        "  return DataLoader(\n",
        "    ds,\n",
        "    batch_size=batch_size,\n",
        "    num_workers=4\n",
        "  )"
      ],
      "metadata": {
        "id": "jiELivbvP_zV"
      },
      "execution_count": 13,
      "outputs": []
    },
    {
      "cell_type": "code",
      "source": [
        "MAX_LEN = 125\n",
        "BATCH_SIZE = 16\n",
        "\n",
        "train_data_loader = create_data_loader(df_train, tokenizer, MAX_LEN, BATCH_SIZE)\n",
        "val_data_loader = create_data_loader(df_val, tokenizer, MAX_LEN, BATCH_SIZE)\n",
        "test_data_loader = create_data_loader(df_test, tokenizer, MAX_LEN, BATCH_SIZE)"
      ],
      "metadata": {
        "id": "t3FlkkEvP_1z",
        "colab": {
          "base_uri": "https://localhost:8080/"
        },
        "outputId": "41e85cab-87df-4a18-86c0-c3bf6363894c"
      },
      "execution_count": 14,
      "outputs": [
        {
          "output_type": "stream",
          "name": "stderr",
          "text": [
            "/usr/local/lib/python3.8/dist-packages/torch/utils/data/dataloader.py:554: UserWarning: This DataLoader will create 4 worker processes in total. Our suggested max number of worker in current system is 2, which is smaller than what this DataLoader is going to create. Please be aware that excessive worker creation might get DataLoader running slow or even freeze, lower the worker number to avoid potential slowness/freeze if necessary.\n",
            "  warnings.warn(_create_warning_msg(\n"
          ]
        }
      ]
    },
    {
      "cell_type": "code",
      "source": [
        "data = next(iter(train_data_loader))\n",
        "data.keys()"
      ],
      "metadata": {
        "colab": {
          "base_uri": "https://localhost:8080/"
        },
        "id": "uyShDuSzQPno",
        "outputId": "4e70f010-fa1f-449a-f724-1dd2234745fb"
      },
      "execution_count": 15,
      "outputs": [
        {
          "output_type": "execute_result",
          "data": {
            "text/plain": [
              "dict_keys(['review_text', 'input_ids', 'attention_mask', 'targets'])"
            ]
          },
          "metadata": {},
          "execution_count": 15
        }
      ]
    },
    {
      "cell_type": "code",
      "source": [
        "# load BERT\n",
        "bert_model = BertModel.from_pretrained('bert-base-cased', return_dict=False)"
      ],
      "metadata": {
        "colab": {
          "base_uri": "https://localhost:8080/"
        },
        "id": "N3CfIBAhQPs8",
        "outputId": "361db66a-574b-4d4b-fff5-13c717312c77"
      },
      "execution_count": 16,
      "outputs": [
        {
          "output_type": "stream",
          "name": "stderr",
          "text": [
            "Some weights of the model checkpoint at bert-base-cased were not used when initializing BertModel: ['cls.predictions.transform.dense.weight', 'cls.predictions.bias', 'cls.predictions.decoder.weight', 'cls.predictions.transform.dense.bias', 'cls.predictions.transform.LayerNorm.weight', 'cls.seq_relationship.weight', 'cls.seq_relationship.bias', 'cls.predictions.transform.LayerNorm.bias']\n",
            "- This IS expected if you are initializing BertModel from the checkpoint of a model trained on another task or with another architecture (e.g. initializing a BertForSequenceClassification model from a BertForPreTraining model).\n",
            "- This IS NOT expected if you are initializing BertModel from the checkpoint of a model that you expect to be exactly identical (initializing a BertForSequenceClassification model from a BertForSequenceClassification model).\n"
          ]
        }
      ]
    },
    {
      "cell_type": "code",
      "source": [
        "# create the classifier\n",
        "class SentimentClassifier(nn.Module):\n",
        "\n",
        "  def __init__(self, n_classes):\n",
        "    super(SentimentClassifier, self).__init__()\n",
        "    self.bert = BertModel.from_pretrained('bert-base-cased', return_dict=False)\n",
        "    self.drop = nn.Dropout(p=0.3)\n",
        "    self.out = nn.Linear(self.bert.config.hidden_size, n_classes)\n",
        "  \n",
        "  def forward(self, input_ids, attention_mask):\n",
        "    _, pooled_output = self.bert(\n",
        "      input_ids=input_ids,\n",
        "      attention_mask=attention_mask\n",
        "    )\n",
        "    output = self.drop(pooled_output)\n",
        "    return self.out(output)"
      ],
      "metadata": {
        "id": "Er5_4pBPQPvA"
      },
      "execution_count": 17,
      "outputs": []
    },
    {
      "cell_type": "code",
      "source": [
        "# instantiate the model and move to classifier\n",
        "model = SentimentClassifier(2)\n",
        "model = model.to(device)"
      ],
      "metadata": {
        "colab": {
          "base_uri": "https://localhost:8080/"
        },
        "id": "nQKqmfdKQPw8",
        "outputId": "a9ea5d0a-fa0a-41a1-fa99-aa66b4cd71ca"
      },
      "execution_count": 18,
      "outputs": [
        {
          "output_type": "stream",
          "name": "stderr",
          "text": [
            "Some weights of the model checkpoint at bert-base-cased were not used when initializing BertModel: ['cls.predictions.transform.dense.weight', 'cls.predictions.bias', 'cls.predictions.decoder.weight', 'cls.predictions.transform.dense.bias', 'cls.predictions.transform.LayerNorm.weight', 'cls.seq_relationship.weight', 'cls.seq_relationship.bias', 'cls.predictions.transform.LayerNorm.bias']\n",
            "- This IS expected if you are initializing BertModel from the checkpoint of a model trained on another task or with another architecture (e.g. initializing a BertForSequenceClassification model from a BertForPreTraining model).\n",
            "- This IS NOT expected if you are initializing BertModel from the checkpoint of a model that you expect to be exactly identical (initializing a BertForSequenceClassification model from a BertForSequenceClassification model).\n"
          ]
        }
      ]
    },
    {
      "cell_type": "code",
      "source": [
        "# check the dimention of input\n",
        "input_ids = data['input_ids'].to(device)\n",
        "attention_mask = data['attention_mask'].to(device)"
      ],
      "metadata": {
        "id": "7UCL_I76wrRz"
      },
      "execution_count": 19,
      "outputs": []
    },
    {
      "cell_type": "code",
      "source": [
        "# check the hidden layer size\n",
        "print(bert_model.config.hidden_size)"
      ],
      "metadata": {
        "colab": {
          "base_uri": "https://localhost:8080/"
        },
        "id": "hdtDpD_TQPzB",
        "outputId": "26ea116d-01de-4e4f-9d64-8a2e56da974e"
      },
      "execution_count": 20,
      "outputs": [
        {
          "output_type": "stream",
          "name": "stdout",
          "text": [
            "768\n"
          ]
        }
      ]
    },
    {
      "cell_type": "code",
      "source": [
        "F.softmax(model(input_ids, attention_mask), dim=1)"
      ],
      "metadata": {
        "colab": {
          "base_uri": "https://localhost:8080/"
        },
        "id": "YELGtjSDwu6t",
        "outputId": "a93953ba-d30c-4a9f-c501-c8660383fdb5"
      },
      "execution_count": 21,
      "outputs": [
        {
          "output_type": "execute_result",
          "data": {
            "text/plain": [
              "tensor([[0.2304, 0.7696],\n",
              "        [0.2834, 0.7166],\n",
              "        [0.1730, 0.8270],\n",
              "        [0.1251, 0.8749],\n",
              "        [0.1942, 0.8058],\n",
              "        [0.2242, 0.7758],\n",
              "        [0.3353, 0.6647],\n",
              "        [0.5796, 0.4204],\n",
              "        [0.3072, 0.6928],\n",
              "        [0.3653, 0.6347],\n",
              "        [0.3781, 0.6219],\n",
              "        [0.3877, 0.6123],\n",
              "        [0.1363, 0.8637],\n",
              "        [0.3642, 0.6358],\n",
              "        [0.4479, 0.5521],\n",
              "        [0.2950, 0.7050]], device='cuda:0', grad_fn=<SoftmaxBackward0>)"
            ]
          },
          "metadata": {},
          "execution_count": 21
        }
      ]
    },
    {
      "cell_type": "code",
      "source": [],
      "metadata": {
        "id": "_JAnQNKFKPTY"
      },
      "execution_count": null,
      "outputs": []
    },
    {
      "cell_type": "markdown",
      "source": [
        "## Training"
      ],
      "metadata": {
        "id": "ozncd6JwKPli"
      }
    },
    {
      "cell_type": "code",
      "source": [
        "EPOCHS = 8\n",
        "\n",
        "optimizer = AdamW(model.parameters(), lr=2e-5, correct_bias=False)\n",
        "total_steps = len(train_data_loader) * EPOCHS\n",
        "\n",
        "scheduler = get_linear_schedule_with_warmup(\n",
        "  optimizer,\n",
        "  num_warmup_steps=0,\n",
        "  num_training_steps=total_steps\n",
        ")\n",
        "\n",
        "loss_fn = nn.CrossEntropyLoss().to(device)"
      ],
      "metadata": {
        "id": "vSR89W9jRtND",
        "colab": {
          "base_uri": "https://localhost:8080/"
        },
        "outputId": "5cfd6d0c-cb96-4e8c-e41e-192712d9abdd"
      },
      "execution_count": 22,
      "outputs": [
        {
          "output_type": "stream",
          "name": "stderr",
          "text": [
            "/usr/local/lib/python3.8/dist-packages/transformers/optimization.py:306: FutureWarning: This implementation of AdamW is deprecated and will be removed in a future version. Use the PyTorch implementation torch.optim.AdamW instead, or set `no_deprecation_warning=True` to disable this warning\n",
            "  warnings.warn(\n"
          ]
        }
      ]
    },
    {
      "cell_type": "code",
      "source": [
        "def train_epoch(\n",
        "  model, \n",
        "  data_loader, \n",
        "  loss_fn, \n",
        "  optimizer, \n",
        "  device, \n",
        "  scheduler, \n",
        "  n_examples\n",
        "):\n",
        "  model = model.train()\n",
        "\n",
        "  losses = []\n",
        "  correct_predictions = 0\n",
        "  \n",
        "  for d in data_loader:\n",
        "    input_ids = d[\"input_ids\"].to(device)\n",
        "    attention_mask = d[\"attention_mask\"].to(device)\n",
        "    targets = d[\"targets\"].to(device)\n",
        "\n",
        "    outputs = model(\n",
        "      input_ids=input_ids,\n",
        "      attention_mask=attention_mask\n",
        "    )\n",
        "\n",
        "    _, preds = torch.max(outputs, dim=1)\n",
        "    loss = loss_fn(outputs, targets)\n",
        "\n",
        "    correct_predictions += torch.sum(preds == targets)\n",
        "    losses.append(loss.item())\n",
        "\n",
        "    loss.backward()\n",
        "    nn.utils.clip_grad_norm_(model.parameters(), max_norm=1.0)\n",
        "    optimizer.step()\n",
        "    scheduler.step()\n",
        "    optimizer.zero_grad()\n",
        "\n",
        "  return correct_predictions.double() / n_examples, np.mean(losses)"
      ],
      "metadata": {
        "id": "cNPsiGQ1RtQ8"
      },
      "execution_count": 23,
      "outputs": []
    },
    {
      "cell_type": "code",
      "source": [
        "def eval_model(model, data_loader, loss_fn, device, n_examples):\n",
        "  model = model.eval()\n",
        "\n",
        "  losses = []\n",
        "  correct_predictions = 0\n",
        "\n",
        "  with torch.no_grad():\n",
        "    for d in data_loader:\n",
        "      input_ids = d[\"input_ids\"].to(device)\n",
        "      attention_mask = d[\"attention_mask\"].to(device)\n",
        "      targets = d[\"targets\"].to(device)\n",
        "\n",
        "      outputs = model(\n",
        "        input_ids=input_ids,\n",
        "        attention_mask=attention_mask\n",
        "      )\n",
        "      _, preds = torch.max(outputs, dim=1)\n",
        "\n",
        "      loss = loss_fn(outputs, targets)\n",
        "\n",
        "      correct_predictions += torch.sum(preds == targets)\n",
        "      losses.append(loss.item())\n",
        "\n",
        "  return correct_predictions.double() / n_examples, np.mean(losses)"
      ],
      "metadata": {
        "id": "3ykskmq9RtU-"
      },
      "execution_count": 24,
      "outputs": []
    },
    {
      "cell_type": "code",
      "source": [
        "%%time\n",
        "\n",
        "history = defaultdict(list)\n",
        "best_accuracy = 0\n",
        "\n",
        "for epoch in range(EPOCHS):\n",
        "\n",
        "  print(f'Epoch {epoch + 1}/{EPOCHS}')\n",
        "  print('-' * 10)\n",
        "\n",
        "  train_acc, train_loss = train_epoch(\n",
        "    model,\n",
        "    train_data_loader,    \n",
        "    loss_fn, \n",
        "    optimizer, \n",
        "    device, \n",
        "    scheduler, \n",
        "    len(df_train)\n",
        "  )\n",
        "\n",
        "  print(f'Train loss {train_loss} accuracy {train_acc}')\n",
        "\n",
        "  val_acc, val_loss = eval_model(\n",
        "    model,\n",
        "    val_data_loader,\n",
        "    loss_fn, \n",
        "    device, \n",
        "    len(df_val)\n",
        "  )\n",
        "\n",
        "  print(f'Val   loss {val_loss} accuracy {val_acc}')\n",
        "  print()\n",
        "\n",
        "  history['train_acc'].append(train_acc)\n",
        "  history['train_loss'].append(train_loss)\n",
        "  history['val_acc'].append(val_acc)\n",
        "  history['val_loss'].append(val_loss)\n",
        "\n",
        "  if val_acc > best_accuracy:\n",
        "    torch.save(model.state_dict(), 'best_model_state.bin')\n",
        "    best_accuracy = val_acc"
      ],
      "metadata": {
        "colab": {
          "base_uri": "https://localhost:8080/"
        },
        "id": "UyaZDVIgR6t8",
        "outputId": "c0154ac9-4b64-423f-c416-d7572ee1b4b4"
      },
      "execution_count": 25,
      "outputs": [
        {
          "output_type": "stream",
          "name": "stdout",
          "text": [
            "Epoch 1/8\n",
            "----------\n",
            "Train loss 0.4857352459265126 accuracy 0.7685416666666667\n",
            "Val   loss 0.4103033171594143 accuracy 0.81875\n",
            "\n",
            "Epoch 2/8\n",
            "----------\n",
            "Train loss 0.2707135284360912 accuracy 0.8961111111111111\n",
            "Val   loss 0.581130108833313 accuracy 0.81125\n",
            "\n",
            "Epoch 3/8\n",
            "----------\n",
            "Train loss 0.1603570611783976 accuracy 0.9538888888888889\n",
            "Val   loss 0.7748090094700456 accuracy 0.81375\n",
            "\n",
            "Epoch 4/8\n",
            "----------\n",
            "Train loss 0.09925389545109485 accuracy 0.9754166666666667\n",
            "Val   loss 1.0215172763576266 accuracy 0.81375\n",
            "\n",
            "Epoch 5/8\n",
            "----------\n",
            "Train loss 0.059240124417346024 accuracy 0.9866666666666667\n",
            "Val   loss 1.0887920645647682 accuracy 0.81\n",
            "\n",
            "Epoch 6/8\n",
            "----------\n",
            "Train loss 0.050139884708898734 accuracy 0.9894444444444445\n",
            "Val   loss 1.232879184919875 accuracy 0.8125\n",
            "\n",
            "Epoch 7/8\n",
            "----------\n",
            "Train loss 0.03146361627515742 accuracy 0.9932638888888888\n",
            "Val   loss 1.3020428043184802 accuracy 0.81375\n",
            "\n",
            "Epoch 8/8\n",
            "----------\n",
            "Train loss 0.018890714899413675 accuracy 0.9955555555555555\n",
            "Val   loss 1.392997169571172 accuracy 0.81875\n",
            "\n",
            "CPU times: user 28min 24s, sys: 12min 40s, total: 41min 5s\n",
            "Wall time: 41min 56s\n"
          ]
        }
      ]
    },
    {
      "cell_type": "markdown",
      "source": [
        "## Accuracy"
      ],
      "metadata": {
        "id": "a_rNmR1F3dLi"
      }
    },
    {
      "cell_type": "code",
      "source": [
        "plt.plot([i.cpu().numpy() for i in history['train_acc']], label='train accuracy')\n",
        "plt.plot([i.cpu().numpy() for i in history['val_acc']], label='validation accuracy')\n",
        "\n",
        "plt.title('Training history')\n",
        "plt.ylabel('Accuracy')\n",
        "plt.xlabel('Epoch')\n",
        "plt.legend()\n",
        "plt.ylim([0, 1]);"
      ],
      "metadata": {
        "id": "I-BSUIFnR6yT",
        "colab": {
          "base_uri": "https://localhost:8080/",
          "height": 294
        },
        "outputId": "79a19342-c700-49e5-8a55-95fa722f8c27"
      },
      "execution_count": 26,
      "outputs": [
        {
          "output_type": "display_data",
          "data": {
            "text/plain": [
              "<Figure size 432x288 with 1 Axes>"
            ],
            "image/png": "[encoded data removed]"
          },
          "metadata": {
            "image/png": {
              "width": 385,
              "height": 277
            },
            "needs_background": "light"
          }
        }
      ]
    }
  ],
  "metadata": {
    "accelerator": "GPU",
    "colab": {
      "collapsed_sections": [
        "K-CqUVk6yaUP",
        "vdkh3e5bzY47",
        "SCVysag65Ze9",
        "wNuN3KnQ5fFy"
      ],
      "provenance": []
    },
    "kernelspec": {
      "display_name": "Python 3 (ipykernel)",
      "language": "python",
      "name": "python3"
    },
    "language_info": {
      "codemirror_mode": {
        "name": "ipython",
        "version": 3
      },
      "file_extension": ".py",
      "mimetype": "text/x-python",
      "name": "python",
      "nbconvert_exporter": "python",
      "pygments_lexer": "ipython3",
      "version": "3.9.12"
    }
  },
  "nbformat": 4,
  "nbformat_minor": 0
}