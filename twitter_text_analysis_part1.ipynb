{
  "cells": [
    {
      "cell_type": "markdown",
      "metadata": {
        "id": "view-in-github",
        "colab_type": "text"
      },
      "source": [
        "<a href=\"https://colab.research.google.com/github/zimine/Twitter-Text-Analysis/blob/main/twitter_text_analysis_part1.ipynb\" target=\"_parent\"><img src=\"https://colab.research.google.com/assets/colab-badge.svg\" alt=\"Open In Colab\"/></a>"
      ]
    },
    {
      "cell_type": "markdown",
      "metadata": {
        "id": "K-CqUVk6yaUP"
      },
      "source": [
        "## 1. Load packages"
      ]
    },
    {
      "cell_type": "code",
      "execution_count": 12,
      "metadata": {
        "colab": {
          "base_uri": "https://localhost:8080/"
        },
        "id": "vu8fcCl0jfTT",
        "outputId": "49e564c8-8794-4fad-b27c-b408b214780d"
      },
      "outputs": [
        {
          "output_type": "stream",
          "name": "stdout",
          "text": [
            "Looking in indexes: https://pypi.org/simple, https://us-python.pkg.dev/colab-wheels/public/simple/\n",
            "Requirement already satisfied: tweet-preprocessor in /usr/local/lib/python3.7/dist-packages (0.6.0)\n",
            "Looking in indexes: https://pypi.org/simple, https://us-python.pkg.dev/colab-wheels/public/simple/\n",
            "Requirement already satisfied: wget in /usr/local/lib/python3.7/dist-packages (3.2)\n"
          ]
        }
      ],
      "source": [
        "!pip install tweet-preprocessor\n",
        "!pip install wget"
      ]
    },
    {
      "cell_type": "code",
      "execution_count": 2,
      "metadata": {
        "id": "3Bd0Dq0Et3jo"
      },
      "outputs": [],
      "source": [
        "import logging\n",
        "import wget\n",
        "import os\n",
        "import matplotlib.pyplot as plt\n",
        "import re\n",
        "import numpy as np\n",
        "import pandas as pd\n",
        "import preprocessor as p\n",
        "import seaborn as sns\n",
        "%matplotlib inline"
      ]
    },
    {
      "cell_type": "markdown",
      "metadata": {
        "id": "vdkh3e5bzY47"
      },
      "source": [
        "## 2. Download dataset"
      ]
    },
    {
      "cell_type": "code",
      "source": [
        "print('Downloading dataset...')\n",
        "\n",
        "# The URL for the dataset zip file\n",
        "url = 'http://cs.stanford.edu/people/alecmgo/trainingandtestdata.zip'\n",
        "\n",
        "# Download the file \n",
        "wget.download(url)\n",
        "\n",
        "# Unzip the dataset\n",
        "!unzip trainingandtestdata.zip"
      ],
      "metadata": {
        "colab": {
          "base_uri": "https://localhost:8080/"
        },
        "id": "6Yzx2k0dUpGf",
        "outputId": "ed9ce617-a574-4bf6-eea5-bd38045d2897"
      },
      "execution_count": 3,
      "outputs": [
        {
          "output_type": "stream",
          "name": "stdout",
          "text": [
            "Downloading dataset...\n",
            "Archive:  trainingandtestdata.zip\n",
            "  inflating: testdata.manual.2009.06.14.csv  \n",
            "  inflating: training.1600000.processed.noemoticon.csv  \n"
          ]
        }
      ]
    },
    {
      "cell_type": "markdown",
      "source": [
        "# 3. EDA"
      ],
      "metadata": {
        "id": "SCVysag65Ze9"
      }
    },
    {
      "cell_type": "code",
      "source": [
        "# load the data into dataframe\n",
        "df = pd.read_csv(\"./training.1600000.processed.noemoticon.csv\", \n",
        "     names=['label', 'twitter_id', 'time', 'query', 'account', 'tweet'],\n",
        "     encoding='latin-1')\n",
        "\n",
        "# print the number of tweets\n",
        "print('Number of tweets: {:,}\\n'.format(df.shape[0]))\n",
        "\n",
        "# sample 10 records from the data\n",
        "df.sample(10)"
      ],
      "metadata": {
        "colab": {
          "base_uri": "https://localhost:8080/",
          "height": 400
        },
        "id": "X-zw7G8O4Xkx",
        "outputId": "061eba58-dc49-4bc2-b5dc-53547cd7abe8"
      },
      "execution_count": 11,
      "outputs": [
        {
          "output_type": "stream",
          "name": "stdout",
          "text": [
            "Number of tweets: 1,600,000\n",
            "\n"
          ]
        },
        {
          "output_type": "execute_result",
          "data": {
            "text/plain": [
              "         label  twitter_id                          time     query  \\\n",
              "848063       4  1564732942  Mon Apr 20 04:43:41 PDT 2009  NO_QUERY   \n",
              "1517817      4  2175886152  Mon Jun 15 02:16:57 PDT 2009  NO_QUERY   \n",
              "1040332      4  1956938066  Thu May 28 23:04:39 PDT 2009  NO_QUERY   \n",
              "194707       0  1970345287  Sat May 30 03:29:12 PDT 2009  NO_QUERY   \n",
              "113338       0  1825788748  Sun May 17 06:50:37 PDT 2009  NO_QUERY   \n",
              "1006797      4  1880643741  Fri May 22 01:58:58 PDT 2009  NO_QUERY   \n",
              "1188135      4  1983276427  Sun May 31 12:50:49 PDT 2009  NO_QUERY   \n",
              "1028981      4  1932701054  Tue May 26 22:01:30 PDT 2009  NO_QUERY   \n",
              "112497       0  1825474521  Sun May 17 05:49:53 PDT 2009  NO_QUERY   \n",
              "1416750      4  2057475556  Sat Jun 06 13:04:29 PDT 2009  NO_QUERY   \n",
              "\n",
              "               account                                              tweet  \n",
              "848063           iyadb  trying tweetie OS application - it is cool  i ...  \n",
              "1517817      DailySpud  @icanhascook ah, I know you'll be sad to leave...  \n",
              "1040332   virtual_diva  hmm, i feel fairly accomplished. should i do m...  \n",
              "194707        Keels_90  @rach210 marathon isn't happening yet I'm just...  \n",
              "113338     mcraddictal  @myhaloromance -cries- when i got out of walma...  \n",
              "1006797      PembsDave  @hypnotized805 ..and a very Good Morning to yo...  \n",
              "1188135    AgatheBauer                       @farocker Yeah, like it too   \n",
              "1028981      lukaMommy  @cherrythegreat naku mahal plane ticket. ;) ib...  \n",
              "112497      Sharika007  PATD &amp; FOB &amp; BLINK182 in one concert!!...  \n",
              "1416750  tweeteradder8  @fotensity Get 100 followers a day using www.t...  "
            ],
            "text/html": [
              "\n",
              "  <div id=\"df-e079a91a-092b-4c7b-aac0-23f1c7f3ab15\">\n",
              "    <div class=\"colab-df-container\">\n",
              "      <div>\n",
              "<style scoped>\n",
              "    .dataframe tbody tr th:only-of-type {\n",
              "        vertical-align: middle;\n",
              "    }\n",
              "\n",
              "    .dataframe tbody tr th {\n",
              "        vertical-align: top;\n",
              "    }\n",
              "\n",
              "    .dataframe thead th {\n",
              "        text-align: right;\n",
              "    }\n",
              "</style>\n",
              "<table border=\"1\" class=\"dataframe\">\n",
              "  <thead>\n",
              "    <tr style=\"text-align: right;\">\n",
              "      <th></th>\n",
              "      <th>label</th>\n",
              "      <th>twitter_id</th>\n",
              "      <th>time</th>\n",
              "      <th>query</th>\n",
              "      <th>account</th>\n",
              "      <th>tweet</th>\n",
              "    </tr>\n",
              "  </thead>\n",
              "  <tbody>\n",
              "    <tr>\n",
              "      <th>848063</th>\n",
              "      <td>4</td>\n",
              "      <td>1564732942</td>\n",
              "      <td>Mon Apr 20 04:43:41 PDT 2009</td>\n",
              "      <td>NO_QUERY</td>\n",
              "      <td>iyadb</td>\n",
              "      <td>trying tweetie OS application - it is cool  i ...</td>\n",
              "    </tr>\n",
              "    <tr>\n",
              "      <th>1517817</th>\n",
              "      <td>4</td>\n",
              "      <td>2175886152</td>\n",
              "      <td>Mon Jun 15 02:16:57 PDT 2009</td>\n",
              "      <td>NO_QUERY</td>\n",
              "      <td>DailySpud</td>\n",
              "      <td>@icanhascook ah, I know you'll be sad to leave...</td>\n",
              "    </tr>\n",
              "    <tr>\n",
              "      <th>1040332</th>\n",
              "      <td>4</td>\n",
              "      <td>1956938066</td>\n",
              "      <td>Thu May 28 23:04:39 PDT 2009</td>\n",
              "      <td>NO_QUERY</td>\n",
              "      <td>virtual_diva</td>\n",
              "      <td>hmm, i feel fairly accomplished. should i do m...</td>\n",
              "    </tr>\n",
              "    <tr>\n",
              "      <th>194707</th>\n",
              "      <td>0</td>\n",
              "      <td>1970345287</td>\n",
              "      <td>Sat May 30 03:29:12 PDT 2009</td>\n",
              "      <td>NO_QUERY</td>\n",
              "      <td>Keels_90</td>\n",
              "      <td>@rach210 marathon isn't happening yet I'm just...</td>\n",
              "    </tr>\n",
              "    <tr>\n",
              "      <th>113338</th>\n",
              "      <td>0</td>\n",
              "      <td>1825788748</td>\n",
              "      <td>Sun May 17 06:50:37 PDT 2009</td>\n",
              "      <td>NO_QUERY</td>\n",
              "      <td>mcraddictal</td>\n",
              "      <td>@myhaloromance -cries- when i got out of walma...</td>\n",
              "    </tr>\n",
              "    <tr>\n",
              "      <th>1006797</th>\n",
              "      <td>4</td>\n",
              "      <td>1880643741</td>\n",
              "      <td>Fri May 22 01:58:58 PDT 2009</td>\n",
              "      <td>NO_QUERY</td>\n",
              "      <td>PembsDave</td>\n",
              "      <td>@hypnotized805 ..and a very Good Morning to yo...</td>\n",
              "    </tr>\n",
              "    <tr>\n",
              "      <th>1188135</th>\n",
              "      <td>4</td>\n",
              "      <td>1983276427</td>\n",
              "      <td>Sun May 31 12:50:49 PDT 2009</td>\n",
              "      <td>NO_QUERY</td>\n",
              "      <td>AgatheBauer</td>\n",
              "      <td>@farocker Yeah, like it too</td>\n",
              "    </tr>\n",
              "    <tr>\n",
              "      <th>1028981</th>\n",
              "      <td>4</td>\n",
              "      <td>1932701054</td>\n",
              "      <td>Tue May 26 22:01:30 PDT 2009</td>\n",
              "      <td>NO_QUERY</td>\n",
              "      <td>lukaMommy</td>\n",
              "      <td>@cherrythegreat naku mahal plane ticket. ;) ib...</td>\n",
              "    </tr>\n",
              "    <tr>\n",
              "      <th>112497</th>\n",
              "      <td>0</td>\n",
              "      <td>1825474521</td>\n",
              "      <td>Sun May 17 05:49:53 PDT 2009</td>\n",
              "      <td>NO_QUERY</td>\n",
              "      <td>Sharika007</td>\n",
              "      <td>PATD &amp;amp; FOB &amp;amp; BLINK182 in one concert!!...</td>\n",
              "    </tr>\n",
              "    <tr>\n",
              "      <th>1416750</th>\n",
              "      <td>4</td>\n",
              "      <td>2057475556</td>\n",
              "      <td>Sat Jun 06 13:04:29 PDT 2009</td>\n",
              "      <td>NO_QUERY</td>\n",
              "      <td>tweeteradder8</td>\n",
              "      <td>@fotensity Get 100 followers a day using www.t...</td>\n",
              "    </tr>\n",
              "  </tbody>\n",
              "</table>\n",
              "</div>\n",
              "      <button class=\"colab-df-convert\" onclick=\"convertToInteractive('df-e079a91a-092b-4c7b-aac0-23f1c7f3ab15')\"\n",
              "              title=\"Convert this dataframe to an interactive table.\"\n",
              "              style=\"display:none;\">\n",
              "        \n",
              "  <svg xmlns=\"http://www.w3.org/2000/svg\" height=\"24px\"viewBox=\"0 0 24 24\"\n",
              "       width=\"24px\">\n",
              "    <path d=\"M0 0h24v24H0V0z\" fill=\"none\"/>\n",
              "    <path d=\"M18.56 5.44l.94 2.06.94-2.06 2.06-.94-2.06-.94-.94-2.06-.94 2.06-2.06.94zm-11 1L8.5 8.5l.94-2.06 2.06-.94-2.06-.94L8.5 2.5l-.94 2.06-2.06.94zm10 10l.94 2.06.94-2.06 2.06-.94-2.06-.94-.94-2.06-.94 2.06-2.06.94z\"/><path d=\"M17.41 7.96l-1.37-1.37c-.4-.4-.92-.59-1.43-.59-.52 0-1.04.2-1.43.59L10.3 9.45l-7.72 7.72c-.78.78-.78 2.05 0 2.83L4 21.41c.39.39.9.59 1.41.59.51 0 1.02-.2 1.41-.59l7.78-7.78 2.81-2.81c.8-.78.8-2.07 0-2.86zM5.41 20L4 18.59l7.72-7.72 1.47 1.35L5.41 20z\"/>\n",
              "  </svg>\n",
              "      </button>\n",
              "      \n",
              "  <style>\n",
              "    .colab-df-container {\n",
              "      display:flex;\n",
              "      flex-wrap:wrap;\n",
              "      gap: 12px;\n",
              "    }\n",
              "\n",
              "    .colab-df-convert {\n",
              "      background-color: #E8F0FE;\n",
              "      border: none;\n",
              "      border-radius: 50%;\n",
              "      cursor: pointer;\n",
              "      display: none;\n",
              "      fill: #1967D2;\n",
              "      height: 32px;\n",
              "      padding: 0 0 0 0;\n",
              "      width: 32px;\n",
              "    }\n",
              "\n",
              "    .colab-df-convert:hover {\n",
              "      background-color: #E2EBFA;\n",
              "      box-shadow: 0px 1px 2px rgba(60, 64, 67, 0.3), 0px 1px 3px 1px rgba(60, 64, 67, 0.15);\n",
              "      fill: #174EA6;\n",
              "    }\n",
              "\n",
              "    [theme=dark] .colab-df-convert {\n",
              "      background-color: #3B4455;\n",
              "      fill: #D2E3FC;\n",
              "    }\n",
              "\n",
              "    [theme=dark] .colab-df-convert:hover {\n",
              "      background-color: #434B5C;\n",
              "      box-shadow: 0px 1px 3px 1px rgba(0, 0, 0, 0.15);\n",
              "      filter: drop-shadow(0px 1px 2px rgba(0, 0, 0, 0.3));\n",
              "      fill: #FFFFFF;\n",
              "    }\n",
              "  </style>\n",
              "\n",
              "      <script>\n",
              "        const buttonEl =\n",
              "          document.querySelector('#df-e079a91a-092b-4c7b-aac0-23f1c7f3ab15 button.colab-df-convert');\n",
              "        buttonEl.style.display =\n",
              "          google.colab.kernel.accessAllowed ? 'block' : 'none';\n",
              "\n",
              "        async function convertToInteractive(key) {\n",
              "          const element = document.querySelector('#df-e079a91a-092b-4c7b-aac0-23f1c7f3ab15');\n",
              "          const dataTable =\n",
              "            await google.colab.kernel.invokeFunction('convertToInteractive',\n",
              "                                                     [key], {});\n",
              "          if (!dataTable) return;\n",
              "\n",
              "          const docLinkHtml = 'Like what you see? Visit the ' +\n",
              "            '<a target=\"_blank\" href=https://colab.research.google.com/notebooks/data_table.ipynb>data table notebook</a>'\n",
              "            + ' to learn more about interactive tables.';\n",
              "          element.innerHTML = '';\n",
              "          dataTable['output_type'] = 'display_data';\n",
              "          await google.colab.output.renderOutput(dataTable, element);\n",
              "          const docLink = document.createElement('div');\n",
              "          docLink.innerHTML = docLinkHtml;\n",
              "          element.appendChild(docLink);\n",
              "        }\n",
              "      </script>\n",
              "    </div>\n",
              "  </div>\n",
              "  "
            ]
          },
          "metadata": {},
          "execution_count": 11
        }
      ]
    },
    {
      "cell_type": "code",
      "execution_count": 13,
      "metadata": {
        "colab": {
          "base_uri": "https://localhost:8080/"
        },
        "id": "Nw_N4brUUiRc",
        "outputId": "3547e3af-b00d-4aeb-e8a5-9471d4e4ec73"
      },
      "outputs": [
        {
          "output_type": "stream",
          "name": "stdout",
          "text": [
            "1598315\n",
            "659775\n"
          ]
        }
      ],
      "source": [
        "# number of unique id\n",
        "print(df['twitter_id'].nunique())\n",
        "\n",
        "# number of unique account\n",
        "print(df['account'].nunique())"
      ]
    },
    {
      "cell_type": "code",
      "execution_count": 14,
      "metadata": {
        "id": "Z6Gl18PvUiRc",
        "colab": {
          "base_uri": "https://localhost:8080/"
        },
        "outputId": "beba8e8d-a45d-46a4-898b-a59ddf053ac1"
      },
      "outputs": [
        {
          "output_type": "execute_result",
          "data": {
            "text/plain": [
              "1"
            ]
          },
          "metadata": {},
          "execution_count": 14
        }
      ],
      "source": [
        "# split the date column into week, month, day, time, timezone, year\n",
        "df[['week','month','day','time','timezone','year']] = df['time'].str.split(\" \", expand=True)\n",
        "\n",
        "# check if time is normalized (if the timezone is the same)\n",
        "df['timezone'].nunique()"
      ]
    },
    {
      "cell_type": "code",
      "execution_count": 16,
      "metadata": {
        "id": "44SxW6mfUiRc",
        "colab": {
          "base_uri": "https://localhost:8080/",
          "height": 423
        },
        "outputId": "a3537576-5961-4fe1-b5c3-1c9c744d3cdd"
      },
      "outputs": [
        {
          "output_type": "execute_result",
          "data": {
            "text/plain": [
              "         label  twitter_id      time     query          account  \\\n",
              "0            0  1467810369  22:19:45  NO_QUERY  _TheSpecialOne_   \n",
              "1            0  1467810672  22:19:49  NO_QUERY    scotthamilton   \n",
              "2            0  1467810917  22:19:53  NO_QUERY         mattycus   \n",
              "3            0  1467811184  22:19:57  NO_QUERY          ElleCTF   \n",
              "4            0  1467811193  22:19:57  NO_QUERY           Karoli   \n",
              "...        ...         ...       ...       ...              ...   \n",
              "1599995      4  2193601966  08:40:49  NO_QUERY  AmandaMarie1028   \n",
              "1599996      4  2193601969  08:40:49  NO_QUERY      TheWDBoards   \n",
              "1599997      4  2193601991  08:40:49  NO_QUERY           bpbabe   \n",
              "1599998      4  2193602064  08:40:49  NO_QUERY     tinydiamondz   \n",
              "1599999      4  2193602129  08:40:50  NO_QUERY   RyanTrevMorris   \n",
              "\n",
              "                                                     tweet week month day  \\\n",
              "0        @switchfoot http://twitpic.com/2y1zl - Awww, t...  Mon   Apr  06   \n",
              "1        is upset that he can't update his Facebook by ...  Mon   Apr  06   \n",
              "2        @Kenichan I dived many times for the ball. Man...  Mon   Apr  06   \n",
              "3          my whole body feels itchy and like its on fire   Mon   Apr  06   \n",
              "4        @nationwideclass no, it's not behaving at all....  Mon   Apr  06   \n",
              "...                                                    ...  ...   ...  ..   \n",
              "1599995  Just woke up. Having no school is the best fee...  Tue   Jun  16   \n",
              "1599996  TheWDB.com - Very cool to hear old Walt interv...  Tue   Jun  16   \n",
              "1599997  Are you ready for your MoJo Makeover? Ask me f...  Tue   Jun  16   \n",
              "1599998  Happy 38th Birthday to my boo of alll time!!! ...  Tue   Jun  16   \n",
              "1599999  happy #charitytuesday @theNSPCC @SparksCharity...  Tue   Jun  16   \n",
              "\n",
              "        timezone  year  \n",
              "0            PDT  2009  \n",
              "1            PDT  2009  \n",
              "2            PDT  2009  \n",
              "3            PDT  2009  \n",
              "4            PDT  2009  \n",
              "...          ...   ...  \n",
              "1599995      PDT  2009  \n",
              "1599996      PDT  2009  \n",
              "1599997      PDT  2009  \n",
              "1599998      PDT  2009  \n",
              "1599999      PDT  2009  \n",
              "\n",
              "[1600000 rows x 11 columns]"
            ],
            "text/html": [
              "\n",
              "  <div id=\"df-bb179a00-22d1-4124-ad74-939ef5b67538\">\n",
              "    <div class=\"colab-df-container\">\n",
              "      <div>\n",
              "<style scoped>\n",
              "    .dataframe tbody tr th:only-of-type {\n",
              "        vertical-align: middle;\n",
              "    }\n",
              "\n",
              "    .dataframe tbody tr th {\n",
              "        vertical-align: top;\n",
              "    }\n",
              "\n",
              "    .dataframe thead th {\n",
              "        text-align: right;\n",
              "    }\n",
              "</style>\n",
              "<table border=\"1\" class=\"dataframe\">\n",
              "  <thead>\n",
              "    <tr style=\"text-align: right;\">\n",
              "      <th></th>\n",
              "      <th>label</th>\n",
              "      <th>twitter_id</th>\n",
              "      <th>time</th>\n",
              "      <th>query</th>\n",
              "      <th>account</th>\n",
              "      <th>tweet</th>\n",
              "      <th>week</th>\n",
              "      <th>month</th>\n",
              "      <th>day</th>\n",
              "      <th>timezone</th>\n",
              "      <th>year</th>\n",
              "    </tr>\n",
              "  </thead>\n",
              "  <tbody>\n",
              "    <tr>\n",
              "      <th>0</th>\n",
              "      <td>0</td>\n",
              "      <td>1467810369</td>\n",
              "      <td>22:19:45</td>\n",
              "      <td>NO_QUERY</td>\n",
              "      <td>_TheSpecialOne_</td>\n",
              "      <td>@switchfoot http://twitpic.com/2y1zl - Awww, t...</td>\n",
              "      <td>Mon</td>\n",
              "      <td>Apr</td>\n",
              "      <td>06</td>\n",
              "      <td>PDT</td>\n",
              "      <td>2009</td>\n",
              "    </tr>\n",
              "    <tr>\n",
              "      <th>1</th>\n",
              "      <td>0</td>\n",
              "      <td>1467810672</td>\n",
              "      <td>22:19:49</td>\n",
              "      <td>NO_QUERY</td>\n",
              "      <td>scotthamilton</td>\n",
              "      <td>is upset that he can't update his Facebook by ...</td>\n",
              "      <td>Mon</td>\n",
              "      <td>Apr</td>\n",
              "      <td>06</td>\n",
              "      <td>PDT</td>\n",
              "      <td>2009</td>\n",
              "    </tr>\n",
              "    <tr>\n",
              "      <th>2</th>\n",
              "      <td>0</td>\n",
              "      <td>1467810917</td>\n",
              "      <td>22:19:53</td>\n",
              "      <td>NO_QUERY</td>\n",
              "      <td>mattycus</td>\n",
              "      <td>@Kenichan I dived many times for the ball. Man...</td>\n",
              "      <td>Mon</td>\n",
              "      <td>Apr</td>\n",
              "      <td>06</td>\n",
              "      <td>PDT</td>\n",
              "      <td>2009</td>\n",
              "    </tr>\n",
              "    <tr>\n",
              "      <th>3</th>\n",
              "      <td>0</td>\n",
              "      <td>1467811184</td>\n",
              "      <td>22:19:57</td>\n",
              "      <td>NO_QUERY</td>\n",
              "      <td>ElleCTF</td>\n",
              "      <td>my whole body feels itchy and like its on fire</td>\n",
              "      <td>Mon</td>\n",
              "      <td>Apr</td>\n",
              "      <td>06</td>\n",
              "      <td>PDT</td>\n",
              "      <td>2009</td>\n",
              "    </tr>\n",
              "    <tr>\n",
              "      <th>4</th>\n",
              "      <td>0</td>\n",
              "      <td>1467811193</td>\n",
              "      <td>22:19:57</td>\n",
              "      <td>NO_QUERY</td>\n",
              "      <td>Karoli</td>\n",
              "      <td>@nationwideclass no, it's not behaving at all....</td>\n",
              "      <td>Mon</td>\n",
              "      <td>Apr</td>\n",
              "      <td>06</td>\n",
              "      <td>PDT</td>\n",
              "      <td>2009</td>\n",
              "    </tr>\n",
              "    <tr>\n",
              "      <th>...</th>\n",
              "      <td>...</td>\n",
              "      <td>...</td>\n",
              "      <td>...</td>\n",
              "      <td>...</td>\n",
              "      <td>...</td>\n",
              "      <td>...</td>\n",
              "      <td>...</td>\n",
              "      <td>...</td>\n",
              "      <td>...</td>\n",
              "      <td>...</td>\n",
              "      <td>...</td>\n",
              "    </tr>\n",
              "    <tr>\n",
              "      <th>1599995</th>\n",
              "      <td>4</td>\n",
              "      <td>2193601966</td>\n",
              "      <td>08:40:49</td>\n",
              "      <td>NO_QUERY</td>\n",
              "      <td>AmandaMarie1028</td>\n",
              "      <td>Just woke up. Having no school is the best fee...</td>\n",
              "      <td>Tue</td>\n",
              "      <td>Jun</td>\n",
              "      <td>16</td>\n",
              "      <td>PDT</td>\n",
              "      <td>2009</td>\n",
              "    </tr>\n",
              "    <tr>\n",
              "      <th>1599996</th>\n",
              "      <td>4</td>\n",
              "      <td>2193601969</td>\n",
              "      <td>08:40:49</td>\n",
              "      <td>NO_QUERY</td>\n",
              "      <td>TheWDBoards</td>\n",
              "      <td>TheWDB.com - Very cool to hear old Walt interv...</td>\n",
              "      <td>Tue</td>\n",
              "      <td>Jun</td>\n",
              "      <td>16</td>\n",
              "      <td>PDT</td>\n",
              "      <td>2009</td>\n",
              "    </tr>\n",
              "    <tr>\n",
              "      <th>1599997</th>\n",
              "      <td>4</td>\n",
              "      <td>2193601991</td>\n",
              "      <td>08:40:49</td>\n",
              "      <td>NO_QUERY</td>\n",
              "      <td>bpbabe</td>\n",
              "      <td>Are you ready for your MoJo Makeover? Ask me f...</td>\n",
              "      <td>Tue</td>\n",
              "      <td>Jun</td>\n",
              "      <td>16</td>\n",
              "      <td>PDT</td>\n",
              "      <td>2009</td>\n",
              "    </tr>\n",
              "    <tr>\n",
              "      <th>1599998</th>\n",
              "      <td>4</td>\n",
              "      <td>2193602064</td>\n",
              "      <td>08:40:49</td>\n",
              "      <td>NO_QUERY</td>\n",
              "      <td>tinydiamondz</td>\n",
              "      <td>Happy 38th Birthday to my boo of alll time!!! ...</td>\n",
              "      <td>Tue</td>\n",
              "      <td>Jun</td>\n",
              "      <td>16</td>\n",
              "      <td>PDT</td>\n",
              "      <td>2009</td>\n",
              "    </tr>\n",
              "    <tr>\n",
              "      <th>1599999</th>\n",
              "      <td>4</td>\n",
              "      <td>2193602129</td>\n",
              "      <td>08:40:50</td>\n",
              "      <td>NO_QUERY</td>\n",
              "      <td>RyanTrevMorris</td>\n",
              "      <td>happy #charitytuesday @theNSPCC @SparksCharity...</td>\n",
              "      <td>Tue</td>\n",
              "      <td>Jun</td>\n",
              "      <td>16</td>\n",
              "      <td>PDT</td>\n",
              "      <td>2009</td>\n",
              "    </tr>\n",
              "  </tbody>\n",
              "</table>\n",
              "<p>1600000 rows × 11 columns</p>\n",
              "</div>\n",
              "      <button class=\"colab-df-convert\" onclick=\"convertToInteractive('df-bb179a00-22d1-4124-ad74-939ef5b67538')\"\n",
              "              title=\"Convert this dataframe to an interactive table.\"\n",
              "              style=\"display:none;\">\n",
              "        \n",
              "  <svg xmlns=\"http://www.w3.org/2000/svg\" height=\"24px\"viewBox=\"0 0 24 24\"\n",
              "       width=\"24px\">\n",
              "    <path d=\"M0 0h24v24H0V0z\" fill=\"none\"/>\n",
              "    <path d=\"M18.56 5.44l.94 2.06.94-2.06 2.06-.94-2.06-.94-.94-2.06-.94 2.06-2.06.94zm-11 1L8.5 8.5l.94-2.06 2.06-.94-2.06-.94L8.5 2.5l-.94 2.06-2.06.94zm10 10l.94 2.06.94-2.06 2.06-.94-2.06-.94-.94-2.06-.94 2.06-2.06.94z\"/><path d=\"M17.41 7.96l-1.37-1.37c-.4-.4-.92-.59-1.43-.59-.52 0-1.04.2-1.43.59L10.3 9.45l-7.72 7.72c-.78.78-.78 2.05 0 2.83L4 21.41c.39.39.9.59 1.41.59.51 0 1.02-.2 1.41-.59l7.78-7.78 2.81-2.81c.8-.78.8-2.07 0-2.86zM5.41 20L4 18.59l7.72-7.72 1.47 1.35L5.41 20z\"/>\n",
              "  </svg>\n",
              "      </button>\n",
              "      \n",
              "  <style>\n",
              "    .colab-df-container {\n",
              "      display:flex;\n",
              "      flex-wrap:wrap;\n",
              "      gap: 12px;\n",
              "    }\n",
              "\n",
              "    .colab-df-convert {\n",
              "      background-color: #E8F0FE;\n",
              "      border: none;\n",
              "      border-radius: 50%;\n",
              "      cursor: pointer;\n",
              "      display: none;\n",
              "      fill: #1967D2;\n",
              "      height: 32px;\n",
              "      padding: 0 0 0 0;\n",
              "      width: 32px;\n",
              "    }\n",
              "\n",
              "    .colab-df-convert:hover {\n",
              "      background-color: #E2EBFA;\n",
              "      box-shadow: 0px 1px 2px rgba(60, 64, 67, 0.3), 0px 1px 3px 1px rgba(60, 64, 67, 0.15);\n",
              "      fill: #174EA6;\n",
              "    }\n",
              "\n",
              "    [theme=dark] .colab-df-convert {\n",
              "      background-color: #3B4455;\n",
              "      fill: #D2E3FC;\n",
              "    }\n",
              "\n",
              "    [theme=dark] .colab-df-convert:hover {\n",
              "      background-color: #434B5C;\n",
              "      box-shadow: 0px 1px 3px 1px rgba(0, 0, 0, 0.15);\n",
              "      filter: drop-shadow(0px 1px 2px rgba(0, 0, 0, 0.3));\n",
              "      fill: #FFFFFF;\n",
              "    }\n",
              "  </style>\n",
              "\n",
              "      <script>\n",
              "        const buttonEl =\n",
              "          document.querySelector('#df-bb179a00-22d1-4124-ad74-939ef5b67538 button.colab-df-convert');\n",
              "        buttonEl.style.display =\n",
              "          google.colab.kernel.accessAllowed ? 'block' : 'none';\n",
              "\n",
              "        async function convertToInteractive(key) {\n",
              "          const element = document.querySelector('#df-bb179a00-22d1-4124-ad74-939ef5b67538');\n",
              "          const dataTable =\n",
              "            await google.colab.kernel.invokeFunction('convertToInteractive',\n",
              "                                                     [key], {});\n",
              "          if (!dataTable) return;\n",
              "\n",
              "          const docLinkHtml = 'Like what you see? Visit the ' +\n",
              "            '<a target=\"_blank\" href=https://colab.research.google.com/notebooks/data_table.ipynb>data table notebook</a>'\n",
              "            + ' to learn more about interactive tables.';\n",
              "          element.innerHTML = '';\n",
              "          dataTable['output_type'] = 'display_data';\n",
              "          await google.colab.output.renderOutput(dataTable, element);\n",
              "          const docLink = document.createElement('div');\n",
              "          docLink.innerHTML = docLinkHtml;\n",
              "          element.appendChild(docLink);\n",
              "        }\n",
              "      </script>\n",
              "    </div>\n",
              "  </div>\n",
              "  "
            ]
          },
          "metadata": {},
          "execution_count": 16
        }
      ],
      "source": [
        "df"
      ]
    },
    {
      "cell_type": "markdown",
      "source": [
        "# 4. Extract mentions"
      ],
      "metadata": {
        "id": "wNuN3KnQ5fFy"
      }
    },
    {
      "cell_type": "code",
      "execution_count": 17,
      "metadata": {
        "id": "04IClm3oUiRc",
        "colab": {
          "base_uri": "https://localhost:8080/"
        },
        "outputId": "a6f09f88-906e-42a5-ab07-ae4fac53a63d"
      },
      "outputs": [
        {
          "output_type": "stream",
          "name": "stdout",
          "text": [
            "@switchfoot http://twitpic.com/2y1zl - Awww, that's a bummer.  You shoulda got David Carr of Third Day to do it. ;D\n",
            "['switchfoot']\n"
          ]
        }
      ],
      "source": [
        "# write a regex to match the pattern for mention\n",
        "mentions_re = r'(?<=@)\\w+'\n",
        "# print the first tweet\n",
        "print(df[\"tweet\"].iloc[0])\n",
        "\"@switchfoot http://twitpic.com/2y1zl - Awww, that's a bummer.  You shoulda got David Carr of Third Day to do it. ;D\"\n",
        "\n",
        "# print the mention in the first tweet \n",
        "print(re.findall(mentions_re, df[\"tweet\"].iloc[0]))"
      ]
    },
    {
      "cell_type": "code",
      "execution_count": 18,
      "metadata": {
        "id": "QVsBibCLUiRc",
        "colab": {
          "base_uri": "https://localhost:8080/"
        },
        "outputId": "fb72b7b9-0fa3-4088-9562-b98178eb40d5"
      },
      "outputs": [
        {
          "output_type": "execute_result",
          "data": {
            "text/plain": [
              "mileycyrus       4580\n",
              "tommcfly         3904\n",
              "ddlovato         3474\n",
              "jonasbrothers    2384\n",
              "davidarchie      1386\n",
              "Name: mentions, dtype: int64"
            ]
          },
          "metadata": {},
          "execution_count": 18
        }
      ],
      "source": [
        "# write a function to extract all of the mentions from each tweet\n",
        "def extract_mentions(full_texts):\n",
        "   mentions = pd.DataFrame(full_texts.str.lower().str.findall(mentions_re).explode().dropna())\n",
        "   mentions.columns = [\"mentions\"]\n",
        "   mentions = mentions.merge(df['label'], left_index=True, right_index=True, how='left')\n",
        "   return mentions\n",
        "\n",
        "# apply the function to the tweet column\n",
        "mentions = extract_mentions(df['tweet'])\n",
        "mentions['mentions'].value_counts()[:5]"
      ]
    },
    {
      "cell_type": "code",
      "source": [
        "# pivot the table\n",
        "by_week = pd.pivot_table(df, values='year', index=['label'], columns=['week'], aggfunc='count')\n",
        "cols = ['Sun', 'Mon', 'Tue', 'Wed', 'Thu', 'Fri', 'Sat']\n",
        "by_week[cols] = by_week[cols] / by_week[cols].sum()\n",
        "by_week = by_week.transpose().reindex(cols)\n",
        "by_week.index.name = None\n",
        "by_week.columns.name = None\n",
        "\n",
        "# plot the proportion of tweets with negative polarity across the whole week\n",
        "sns.lineplot(data=by_week, x=by_week.index, y=0, color='forestgreen')\n",
        "plt.title('')\n",
        "plt.legend(loc=2)\n",
        "plt.xlabel(\"Week of the Day\")\n",
        "plt.ylabel(\"Average Polarity\")\n",
        "plt.grid()\n",
        "plt.show()"
      ],
      "metadata": {
        "colab": {
          "base_uri": "https://localhost:8080/",
          "height": 297
        },
        "id": "s95h62S_MydU",
        "outputId": "89491c32-9e84-4d38-8f4e-635504c07219"
      },
      "execution_count": 28,
      "outputs": [
        {
          "output_type": "stream",
          "name": "stderr",
          "text": [
            "WARNING:matplotlib.legend:No handles with labels found to put in legend.\n"
          ]
        },
        {
          "output_type": "display_data",
          "data": {
            "text/plain": [
              "<Figure size 432x288 with 1 Axes>"
            ],
            "image/png": "[encoded data removed]"
          },
          "metadata": {
            "needs_background": "light"
          }
        }
      ]
    }
  ],
  "metadata": {
    "accelerator": "GPU",
    "colab": {
      "collapsed_sections": [],
      "provenance": [],
      "include_colab_link": true
    },
    "kernelspec": {
      "display_name": "Python 3 (ipykernel)",
      "language": "python",
      "name": "python3"
    },
    "language_info": {
      "codemirror_mode": {
        "name": "ipython",
        "version": 3
      },
      "file_extension": ".py",
      "mimetype": "text/x-python",
      "name": "python",
      "nbconvert_exporter": "python",
      "pygments_lexer": "ipython3",
      "version": "3.9.12"
    }
  },
  "nbformat": 4,
  "nbformat_minor": 0
}