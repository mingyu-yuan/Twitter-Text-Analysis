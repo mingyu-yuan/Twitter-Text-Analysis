{
  "cells": [
    {
      "cell_type": "markdown",
      "metadata": {
        "id": "view-in-github",
        "colab_type": "text"
      },
      "source": [
        "<a href=\"https://colab.research.google.com/github/zimine/Twitter-Text-Analysis/blob/main/twitter_text_analysis_part1.ipynb\" target=\"_parent\"><img src=\"https://colab.research.google.com/assets/colab-badge.svg\" alt=\"Open In Colab\"/></a>"
      ]
    },
    {
      "cell_type": "markdown",
      "metadata": {
        "id": "K-CqUVk6yaUP"
      },
      "source": [
        "## 1. Load packages"
      ]
    },
    {
      "cell_type": "code",
      "execution_count": 1,
      "metadata": {
        "colab": {
          "base_uri": "https://localhost:8080/"
        },
        "id": "vu8fcCl0jfTT",
        "outputId": "d61cc459-0a10-43cf-c000-b75f48c23a26"
      },
      "outputs": [
        {
          "output_type": "stream",
          "name": "stdout",
          "text": [
            "Looking in indexes: https://pypi.org/simple, https://us-python.pkg.dev/colab-wheels/public/simple/\n",
            "Collecting tweet-preprocessor\n",
            "  Downloading tweet_preprocessor-0.6.0-py3-none-any.whl (27 kB)\n",
            "Installing collected packages: tweet-preprocessor\n",
            "Successfully installed tweet-preprocessor-0.6.0\n",
            "Looking in indexes: https://pypi.org/simple, https://us-python.pkg.dev/colab-wheels/public/simple/\n",
            "Collecting wget\n",
            "  Downloading wget-3.2.zip (10 kB)\n",
            "Building wheels for collected packages: wget\n",
            "  Building wheel for wget (setup.py) ... \u001b[?25l\u001b[?25hdone\n",
            "  Created wheel for wget: filename=wget-3.2-py3-none-any.whl size=9675 sha256=4cda8b365a89fcd9acc3930b6f812f2b659f4a53ced31623c74a496c60877b9c\n",
            "  Stored in directory: /root/.cache/pip/wheels/a1/b6/7c/0e63e34eb06634181c63adacca38b79ff8f35c37e3c13e3c02\n",
            "Successfully built wget\n",
            "Installing collected packages: wget\n",
            "Successfully installed wget-3.2\n"
          ]
        }
      ],
      "source": [
        "!pip install tweet-preprocessor\n",
        "!pip install wget"
      ]
    },
    {
      "cell_type": "code",
      "execution_count": 14,
      "metadata": {
        "id": "3Bd0Dq0Et3jo"
      },
      "outputs": [],
      "source": [
        "import logging\n",
        "import wget\n",
        "import os\n",
        "import matplotlib.pyplot as plt\n",
        "import re\n",
        "import numpy as np\n",
        "import pandas as pd\n",
        "import preprocessor as p\n",
        "import seaborn as sns\n",
        "%matplotlib inline"
      ]
    },
    {
      "cell_type": "markdown",
      "metadata": {
        "id": "vdkh3e5bzY47"
      },
      "source": [
        "## 2. Download dataset"
      ]
    },
    {
      "cell_type": "code",
      "source": [
        "print('Downloading dataset...')\n",
        "\n",
        "# The URL for the dataset zip file\n",
        "url = 'http://cs.stanford.edu/people/alecmgo/trainingandtestdata.zip'\n",
        "\n",
        "# Download the file \n",
        "wget.download(url)\n",
        "\n",
        "# Unzip the dataset\n",
        "!unzip trainingandtestdata.zip"
      ],
      "metadata": {
        "colab": {
          "base_uri": "https://localhost:8080/"
        },
        "id": "6Yzx2k0dUpGf",
        "outputId": "e91b6c05-42f1-46e5-9878-64cb16bbbc97"
      },
      "execution_count": 3,
      "outputs": [
        {
          "output_type": "stream",
          "name": "stdout",
          "text": [
            "Downloading dataset...\n",
            "Archive:  trainingandtestdata.zip\n",
            "  inflating: testdata.manual.2009.06.14.csv  \n",
            "  inflating: training.1600000.processed.noemoticon.csv  \n"
          ]
        }
      ]
    },
    {
      "cell_type": "markdown",
      "source": [
        "# 3. EDA"
      ],
      "metadata": {
        "id": "SCVysag65Ze9"
      }
    },
    {
      "cell_type": "code",
      "source": [
        "# load the data into dataframe\n",
        "df = pd.read_csv(\"./training.1600000.processed.noemoticon.csv\", \n",
        "     names=['label', 'twitter_id', 'time', 'query', 'account', 'tweet'],\n",
        "     encoding='latin-1')\n",
        "\n",
        "# print the number of tweets\n",
        "print('Number of tweets: {:,}\\n'.format(df.shape[0]))\n",
        "\n",
        "# sample 10 records from the data\n",
        "df.sample(10)"
      ],
      "metadata": {
        "colab": {
          "base_uri": "https://localhost:8080/",
          "height": 398
        },
        "id": "X-zw7G8O4Xkx",
        "outputId": "fe96ed18-4eb6-4d06-8ac3-f1d4969fc19c"
      },
      "execution_count": 4,
      "outputs": [
        {
          "output_type": "stream",
          "name": "stdout",
          "text": [
            "Number of tweets: 1,600,000\n",
            "\n"
          ]
        },
        {
          "output_type": "execute_result",
          "data": {
            "text/plain": [
              "         label  twitter_id                          time     query  \\\n",
              "491382       0  2183809387  Mon Jun 15 15:00:54 PDT 2009  NO_QUERY   \n",
              "1238604      4  1993330844  Mon Jun 01 10:12:18 PDT 2009  NO_QUERY   \n",
              "1244946      4  1994953750  Mon Jun 01 12:43:14 PDT 2009  NO_QUERY   \n",
              "1243111      4  1994476990  Mon Jun 01 11:58:55 PDT 2009  NO_QUERY   \n",
              "1008336      4  1880791071  Fri May 22 02:31:02 PDT 2009  NO_QUERY   \n",
              "586219       0  2215892148  Wed Jun 17 18:45:18 PDT 2009  NO_QUERY   \n",
              "387493       0  2054025452  Sat Jun 06 06:21:47 PDT 2009  NO_QUERY   \n",
              "1584326      4  2190547994  Tue Jun 16 03:02:38 PDT 2009  NO_QUERY   \n",
              "1368645      4  2050640928  Fri Jun 05 19:02:06 PDT 2009  NO_QUERY   \n",
              "679854       0  2249342199  Fri Jun 19 22:09:11 PDT 2009  NO_QUERY   \n",
              "\n",
              "              account                                              tweet  \n",
              "491382     lushlady15                     @LetsKissnMakeup which video?   \n",
              "1238604    Bearskopff                          @richard4481 What is it?   \n",
              "1244946         keeto                              @alex_gibson Thanks.   \n",
              "1243111        klee15             @JohnFClark yay for John and Phyllis!   \n",
              "1008336  blueyedgrl89  Just got down my first song singing and playin...  \n",
              "586219      LiaDavis7                    they didnt have any bottlecaps   \n",
              "387493      putitaway  My 9 year old nephew just emailed me asking 2 ...  \n",
              "1584326        dilipm  yay! thursday travel to delhi postponed to nex...  \n",
              "1368645  ChampionPhts  @dantelewis wish my inbox was full of dante le...  \n",
              "679854   Stoptouching  @QuaniG nahh no job 4 me  abercrombie where? t...  "
            ],
            "text/html": [
              "\n",
              "  <div id=\"df-9896a920-7d3d-49f7-addb-46828d6c9bc7\">\n",
              "    <div class=\"colab-df-container\">\n",
              "      <div>\n",
              "<style scoped>\n",
              "    .dataframe tbody tr th:only-of-type {\n",
              "        vertical-align: middle;\n",
              "    }\n",
              "\n",
              "    .dataframe tbody tr th {\n",
              "        vertical-align: top;\n",
              "    }\n",
              "\n",
              "    .dataframe thead th {\n",
              "        text-align: right;\n",
              "    }\n",
              "</style>\n",
              "<table border=\"1\" class=\"dataframe\">\n",
              "  <thead>\n",
              "    <tr style=\"text-align: right;\">\n",
              "      <th></th>\n",
              "      <th>label</th>\n",
              "      <th>twitter_id</th>\n",
              "      <th>time</th>\n",
              "      <th>query</th>\n",
              "      <th>account</th>\n",
              "      <th>tweet</th>\n",
              "    </tr>\n",
              "  </thead>\n",
              "  <tbody>\n",
              "    <tr>\n",
              "      <th>491382</th>\n",
              "      <td>0</td>\n",
              "      <td>2183809387</td>\n",
              "      <td>Mon Jun 15 15:00:54 PDT 2009</td>\n",
              "      <td>NO_QUERY</td>\n",
              "      <td>lushlady15</td>\n",
              "      <td>@LetsKissnMakeup which video?</td>\n",
              "    </tr>\n",
              "    <tr>\n",
              "      <th>1238604</th>\n",
              "      <td>4</td>\n",
              "      <td>1993330844</td>\n",
              "      <td>Mon Jun 01 10:12:18 PDT 2009</td>\n",
              "      <td>NO_QUERY</td>\n",
              "      <td>Bearskopff</td>\n",
              "      <td>@richard4481 What is it?</td>\n",
              "    </tr>\n",
              "    <tr>\n",
              "      <th>1244946</th>\n",
              "      <td>4</td>\n",
              "      <td>1994953750</td>\n",
              "      <td>Mon Jun 01 12:43:14 PDT 2009</td>\n",
              "      <td>NO_QUERY</td>\n",
              "      <td>keeto</td>\n",
              "      <td>@alex_gibson Thanks.</td>\n",
              "    </tr>\n",
              "    <tr>\n",
              "      <th>1243111</th>\n",
              "      <td>4</td>\n",
              "      <td>1994476990</td>\n",
              "      <td>Mon Jun 01 11:58:55 PDT 2009</td>\n",
              "      <td>NO_QUERY</td>\n",
              "      <td>klee15</td>\n",
              "      <td>@JohnFClark yay for John and Phyllis!</td>\n",
              "    </tr>\n",
              "    <tr>\n",
              "      <th>1008336</th>\n",
              "      <td>4</td>\n",
              "      <td>1880791071</td>\n",
              "      <td>Fri May 22 02:31:02 PDT 2009</td>\n",
              "      <td>NO_QUERY</td>\n",
              "      <td>blueyedgrl89</td>\n",
              "      <td>Just got down my first song singing and playin...</td>\n",
              "    </tr>\n",
              "    <tr>\n",
              "      <th>586219</th>\n",
              "      <td>0</td>\n",
              "      <td>2215892148</td>\n",
              "      <td>Wed Jun 17 18:45:18 PDT 2009</td>\n",
              "      <td>NO_QUERY</td>\n",
              "      <td>LiaDavis7</td>\n",
              "      <td>they didnt have any bottlecaps</td>\n",
              "    </tr>\n",
              "    <tr>\n",
              "      <th>387493</th>\n",
              "      <td>0</td>\n",
              "      <td>2054025452</td>\n",
              "      <td>Sat Jun 06 06:21:47 PDT 2009</td>\n",
              "      <td>NO_QUERY</td>\n",
              "      <td>putitaway</td>\n",
              "      <td>My 9 year old nephew just emailed me asking 2 ...</td>\n",
              "    </tr>\n",
              "    <tr>\n",
              "      <th>1584326</th>\n",
              "      <td>4</td>\n",
              "      <td>2190547994</td>\n",
              "      <td>Tue Jun 16 03:02:38 PDT 2009</td>\n",
              "      <td>NO_QUERY</td>\n",
              "      <td>dilipm</td>\n",
              "      <td>yay! thursday travel to delhi postponed to nex...</td>\n",
              "    </tr>\n",
              "    <tr>\n",
              "      <th>1368645</th>\n",
              "      <td>4</td>\n",
              "      <td>2050640928</td>\n",
              "      <td>Fri Jun 05 19:02:06 PDT 2009</td>\n",
              "      <td>NO_QUERY</td>\n",
              "      <td>ChampionPhts</td>\n",
              "      <td>@dantelewis wish my inbox was full of dante le...</td>\n",
              "    </tr>\n",
              "    <tr>\n",
              "      <th>679854</th>\n",
              "      <td>0</td>\n",
              "      <td>2249342199</td>\n",
              "      <td>Fri Jun 19 22:09:11 PDT 2009</td>\n",
              "      <td>NO_QUERY</td>\n",
              "      <td>Stoptouching</td>\n",
              "      <td>@QuaniG nahh no job 4 me  abercrombie where? t...</td>\n",
              "    </tr>\n",
              "  </tbody>\n",
              "</table>\n",
              "</div>\n",
              "      <button class=\"colab-df-convert\" onclick=\"convertToInteractive('df-9896a920-7d3d-49f7-addb-46828d6c9bc7')\"\n",
              "              title=\"Convert this dataframe to an interactive table.\"\n",
              "              style=\"display:none;\">\n",
              "        \n",
              "  <svg xmlns=\"http://www.w3.org/2000/svg\" height=\"24px\"viewBox=\"0 0 24 24\"\n",
              "       width=\"24px\">\n",
              "    <path d=\"M0 0h24v24H0V0z\" fill=\"none\"/>\n",
              "    <path d=\"M18.56 5.44l.94 2.06.94-2.06 2.06-.94-2.06-.94-.94-2.06-.94 2.06-2.06.94zm-11 1L8.5 8.5l.94-2.06 2.06-.94-2.06-.94L8.5 2.5l-.94 2.06-2.06.94zm10 10l.94 2.06.94-2.06 2.06-.94-2.06-.94-.94-2.06-.94 2.06-2.06.94z\"/><path d=\"M17.41 7.96l-1.37-1.37c-.4-.4-.92-.59-1.43-.59-.52 0-1.04.2-1.43.59L10.3 9.45l-7.72 7.72c-.78.78-.78 2.05 0 2.83L4 21.41c.39.39.9.59 1.41.59.51 0 1.02-.2 1.41-.59l7.78-7.78 2.81-2.81c.8-.78.8-2.07 0-2.86zM5.41 20L4 18.59l7.72-7.72 1.47 1.35L5.41 20z\"/>\n",
              "  </svg>\n",
              "      </button>\n",
              "      \n",
              "  <style>\n",
              "    .colab-df-container {\n",
              "      display:flex;\n",
              "      flex-wrap:wrap;\n",
              "      gap: 12px;\n",
              "    }\n",
              "\n",
              "    .colab-df-convert {\n",
              "      background-color: #E8F0FE;\n",
              "      border: none;\n",
              "      border-radius: 50%;\n",
              "      cursor: pointer;\n",
              "      display: none;\n",
              "      fill: #1967D2;\n",
              "      height: 32px;\n",
              "      padding: 0 0 0 0;\n",
              "      width: 32px;\n",
              "    }\n",
              "\n",
              "    .colab-df-convert:hover {\n",
              "      background-color: #E2EBFA;\n",
              "      box-shadow: 0px 1px 2px rgba(60, 64, 67, 0.3), 0px 1px 3px 1px rgba(60, 64, 67, 0.15);\n",
              "      fill: #174EA6;\n",
              "    }\n",
              "\n",
              "    [theme=dark] .colab-df-convert {\n",
              "      background-color: #3B4455;\n",
              "      fill: #D2E3FC;\n",
              "    }\n",
              "\n",
              "    [theme=dark] .colab-df-convert:hover {\n",
              "      background-color: #434B5C;\n",
              "      box-shadow: 0px 1px 3px 1px rgba(0, 0, 0, 0.15);\n",
              "      filter: drop-shadow(0px 1px 2px rgba(0, 0, 0, 0.3));\n",
              "      fill: #FFFFFF;\n",
              "    }\n",
              "  </style>\n",
              "\n",
              "      <script>\n",
              "        const buttonEl =\n",
              "          document.querySelector('#df-9896a920-7d3d-49f7-addb-46828d6c9bc7 button.colab-df-convert');\n",
              "        buttonEl.style.display =\n",
              "          google.colab.kernel.accessAllowed ? 'block' : 'none';\n",
              "\n",
              "        async function convertToInteractive(key) {\n",
              "          const element = document.querySelector('#df-9896a920-7d3d-49f7-addb-46828d6c9bc7');\n",
              "          const dataTable =\n",
              "            await google.colab.kernel.invokeFunction('convertToInteractive',\n",
              "                                                     [key], {});\n",
              "          if (!dataTable) return;\n",
              "\n",
              "          const docLinkHtml = 'Like what you see? Visit the ' +\n",
              "            '<a target=\"_blank\" href=https://colab.research.google.com/notebooks/data_table.ipynb>data table notebook</a>'\n",
              "            + ' to learn more about interactive tables.';\n",
              "          element.innerHTML = '';\n",
              "          dataTable['output_type'] = 'display_data';\n",
              "          await google.colab.output.renderOutput(dataTable, element);\n",
              "          const docLink = document.createElement('div');\n",
              "          docLink.innerHTML = docLinkHtml;\n",
              "          element.appendChild(docLink);\n",
              "        }\n",
              "      </script>\n",
              "    </div>\n",
              "  </div>\n",
              "  "
            ]
          },
          "metadata": {},
          "execution_count": 4
        }
      ]
    },
    {
      "cell_type": "code",
      "execution_count": 5,
      "metadata": {
        "colab": {
          "base_uri": "https://localhost:8080/"
        },
        "id": "Nw_N4brUUiRc",
        "outputId": "4ecd351f-d754-4caa-c831-9edd46adddff"
      },
      "outputs": [
        {
          "output_type": "stream",
          "name": "stdout",
          "text": [
            "1598315\n",
            "659775\n"
          ]
        }
      ],
      "source": [
        "# number of unique id\n",
        "print(df['twitter_id'].nunique())\n",
        "\n",
        "# number of unique account\n",
        "print(df['account'].nunique())"
      ]
    },
    {
      "cell_type": "code",
      "execution_count": 7,
      "metadata": {
        "id": "Z6Gl18PvUiRc",
        "colab": {
          "base_uri": "https://localhost:8080/"
        },
        "outputId": "b18ce135-72d9-46d2-f411-c925c098bb86"
      },
      "outputs": [
        {
          "output_type": "execute_result",
          "data": {
            "text/plain": [
              "1"
            ]
          },
          "metadata": {},
          "execution_count": 7
        }
      ],
      "source": [
        "# split the date column into week, month, day, time, timezone, year\n",
        "df[['week','month','day','time','timezone','year']] = df['time'].str.split(\" \", expand=True)\n",
        "\n",
        "# check if time is normalized (if the timezone is the same)\n",
        "df['timezone'].nunique()"
      ]
    },
    {
      "cell_type": "code",
      "execution_count": null,
      "metadata": {
        "id": "44SxW6mfUiRc",
        "colab": {
          "base_uri": "https://localhost:8080/",
          "height": 1000
        },
        "outputId": "cf8d7fc5-d772-479a-c78e-a4e8295b5c0c"
      },
      "outputs": [
        {
          "output_type": "execute_result",
          "data": {
            "text/plain": [
              "         label  twitter_id                          date     query  \\\n",
              "0            0  1467810369  Mon Apr 06 22:19:45 PDT 2009  NO_QUERY   \n",
              "1            0  1467810672  Mon Apr 06 22:19:49 PDT 2009  NO_QUERY   \n",
              "2            0  1467810917  Mon Apr 06 22:19:53 PDT 2009  NO_QUERY   \n",
              "3            0  1467811184  Mon Apr 06 22:19:57 PDT 2009  NO_QUERY   \n",
              "4            0  1467811193  Mon Apr 06 22:19:57 PDT 2009  NO_QUERY   \n",
              "...        ...         ...                           ...       ...   \n",
              "1599995      4  2193601966  Tue Jun 16 08:40:49 PDT 2009  NO_QUERY   \n",
              "1599996      4  2193601969  Tue Jun 16 08:40:49 PDT 2009  NO_QUERY   \n",
              "1599997      4  2193601991  Tue Jun 16 08:40:49 PDT 2009  NO_QUERY   \n",
              "1599998      4  2193602064  Tue Jun 16 08:40:49 PDT 2009  NO_QUERY   \n",
              "1599999      4  2193602129  Tue Jun 16 08:40:50 PDT 2009  NO_QUERY   \n",
              "\n",
              "                 account                                              tweet  \\\n",
              "0        _TheSpecialOne_  @switchfoot http://twitpic.com/2y1zl - Awww, t...   \n",
              "1          scotthamilton  is upset that he can't update his Facebook by ...   \n",
              "2               mattycus  @Kenichan I dived many times for the ball. Man...   \n",
              "3                ElleCTF    my whole body feels itchy and like its on fire    \n",
              "4                 Karoli  @nationwideclass no, it's not behaving at all....   \n",
              "...                  ...                                                ...   \n",
              "1599995  AmandaMarie1028  Just woke up. Having no school is the best fee...   \n",
              "1599996      TheWDBoards  TheWDB.com - Very cool to hear old Walt interv...   \n",
              "1599997           bpbabe  Are you ready for your MoJo Makeover? Ask me f...   \n",
              "1599998     tinydiamondz  Happy 38th Birthday to my boo of alll time!!! ...   \n",
              "1599999   RyanTrevMorris  happy #charitytuesday @theNSPCC @SparksCharity...   \n",
              "\n",
              "        week month day      time timezone  year  \n",
              "0        Mon   Apr  06  22:19:45      PDT  2009  \n",
              "1        Mon   Apr  06  22:19:49      PDT  2009  \n",
              "2        Mon   Apr  06  22:19:53      PDT  2009  \n",
              "3        Mon   Apr  06  22:19:57      PDT  2009  \n",
              "4        Mon   Apr  06  22:19:57      PDT  2009  \n",
              "...      ...   ...  ..       ...      ...   ...  \n",
              "1599995  Tue   Jun  16  08:40:49      PDT  2009  \n",
              "1599996  Tue   Jun  16  08:40:49      PDT  2009  \n",
              "1599997  Tue   Jun  16  08:40:49      PDT  2009  \n",
              "1599998  Tue   Jun  16  08:40:49      PDT  2009  \n",
              "1599999  Tue   Jun  16  08:40:50      PDT  2009  \n",
              "\n",
              "[1600000 rows x 12 columns]"
            ],
            "text/html": [
              "\n",
              "  <div id=\"df-5eb15860-d911-4e6c-be7d-0f19cd6dcb38\">\n",
              "    <div class=\"colab-df-container\">\n",
              "      <div>\n",
              "<style scoped>\n",
              "    .dataframe tbody tr th:only-of-type {\n",
              "        vertical-align: middle;\n",
              "    }\n",
              "\n",
              "    .dataframe tbody tr th {\n",
              "        vertical-align: top;\n",
              "    }\n",
              "\n",
              "    .dataframe thead th {\n",
              "        text-align: right;\n",
              "    }\n",
              "</style>\n",
              "<table border=\"1\" class=\"dataframe\">\n",
              "  <thead>\n",
              "    <tr style=\"text-align: right;\">\n",
              "      <th></th>\n",
              "      <th>label</th>\n",
              "      <th>twitter_id</th>\n",
              "      <th>date</th>\n",
              "      <th>query</th>\n",
              "      <th>account</th>\n",
              "      <th>tweet</th>\n",
              "      <th>week</th>\n",
              "      <th>month</th>\n",
              "      <th>day</th>\n",
              "      <th>time</th>\n",
              "      <th>timezone</th>\n",
              "      <th>year</th>\n",
              "    </tr>\n",
              "  </thead>\n",
              "  <tbody>\n",
              "    <tr>\n",
              "      <th>0</th>\n",
              "      <td>0</td>\n",
              "      <td>1467810369</td>\n",
              "      <td>Mon Apr 06 22:19:45 PDT 2009</td>\n",
              "      <td>NO_QUERY</td>\n",
              "      <td>_TheSpecialOne_</td>\n",
              "      <td>@switchfoot http://twitpic.com/2y1zl - Awww, t...</td>\n",
              "      <td>Mon</td>\n",
              "      <td>Apr</td>\n",
              "      <td>06</td>\n",
              "      <td>22:19:45</td>\n",
              "      <td>PDT</td>\n",
              "      <td>2009</td>\n",
              "    </tr>\n",
              "    <tr>\n",
              "      <th>1</th>\n",
              "      <td>0</td>\n",
              "      <td>1467810672</td>\n",
              "      <td>Mon Apr 06 22:19:49 PDT 2009</td>\n",
              "      <td>NO_QUERY</td>\n",
              "      <td>scotthamilton</td>\n",
              "      <td>is upset that he can't update his Facebook by ...</td>\n",
              "      <td>Mon</td>\n",
              "      <td>Apr</td>\n",
              "      <td>06</td>\n",
              "      <td>22:19:49</td>\n",
              "      <td>PDT</td>\n",
              "      <td>2009</td>\n",
              "    </tr>\n",
              "    <tr>\n",
              "      <th>2</th>\n",
              "      <td>0</td>\n",
              "      <td>1467810917</td>\n",
              "      <td>Mon Apr 06 22:19:53 PDT 2009</td>\n",
              "      <td>NO_QUERY</td>\n",
              "      <td>mattycus</td>\n",
              "      <td>@Kenichan I dived many times for the ball. Man...</td>\n",
              "      <td>Mon</td>\n",
              "      <td>Apr</td>\n",
              "      <td>06</td>\n",
              "      <td>22:19:53</td>\n",
              "      <td>PDT</td>\n",
              "      <td>2009</td>\n",
              "    </tr>\n",
              "    <tr>\n",
              "      <th>3</th>\n",
              "      <td>0</td>\n",
              "      <td>1467811184</td>\n",
              "      <td>Mon Apr 06 22:19:57 PDT 2009</td>\n",
              "      <td>NO_QUERY</td>\n",
              "      <td>ElleCTF</td>\n",
              "      <td>my whole body feels itchy and like its on fire</td>\n",
              "      <td>Mon</td>\n",
              "      <td>Apr</td>\n",
              "      <td>06</td>\n",
              "      <td>22:19:57</td>\n",
              "      <td>PDT</td>\n",
              "      <td>2009</td>\n",
              "    </tr>\n",
              "    <tr>\n",
              "      <th>4</th>\n",
              "      <td>0</td>\n",
              "      <td>1467811193</td>\n",
              "      <td>Mon Apr 06 22:19:57 PDT 2009</td>\n",
              "      <td>NO_QUERY</td>\n",
              "      <td>Karoli</td>\n",
              "      <td>@nationwideclass no, it's not behaving at all....</td>\n",
              "      <td>Mon</td>\n",
              "      <td>Apr</td>\n",
              "      <td>06</td>\n",
              "      <td>22:19:57</td>\n",
              "      <td>PDT</td>\n",
              "      <td>2009</td>\n",
              "    </tr>\n",
              "    <tr>\n",
              "      <th>...</th>\n",
              "      <td>...</td>\n",
              "      <td>...</td>\n",
              "      <td>...</td>\n",
              "      <td>...</td>\n",
              "      <td>...</td>\n",
              "      <td>...</td>\n",
              "      <td>...</td>\n",
              "      <td>...</td>\n",
              "      <td>...</td>\n",
              "      <td>...</td>\n",
              "      <td>...</td>\n",
              "      <td>...</td>\n",
              "    </tr>\n",
              "    <tr>\n",
              "      <th>1599995</th>\n",
              "      <td>4</td>\n",
              "      <td>2193601966</td>\n",
              "      <td>Tue Jun 16 08:40:49 PDT 2009</td>\n",
              "      <td>NO_QUERY</td>\n",
              "      <td>AmandaMarie1028</td>\n",
              "      <td>Just woke up. Having no school is the best fee...</td>\n",
              "      <td>Tue</td>\n",
              "      <td>Jun</td>\n",
              "      <td>16</td>\n",
              "      <td>08:40:49</td>\n",
              "      <td>PDT</td>\n",
              "      <td>2009</td>\n",
              "    </tr>\n",
              "    <tr>\n",
              "      <th>1599996</th>\n",
              "      <td>4</td>\n",
              "      <td>2193601969</td>\n",
              "      <td>Tue Jun 16 08:40:49 PDT 2009</td>\n",
              "      <td>NO_QUERY</td>\n",
              "      <td>TheWDBoards</td>\n",
              "      <td>TheWDB.com - Very cool to hear old Walt interv...</td>\n",
              "      <td>Tue</td>\n",
              "      <td>Jun</td>\n",
              "      <td>16</td>\n",
              "      <td>08:40:49</td>\n",
              "      <td>PDT</td>\n",
              "      <td>2009</td>\n",
              "    </tr>\n",
              "    <tr>\n",
              "      <th>1599997</th>\n",
              "      <td>4</td>\n",
              "      <td>2193601991</td>\n",
              "      <td>Tue Jun 16 08:40:49 PDT 2009</td>\n",
              "      <td>NO_QUERY</td>\n",
              "      <td>bpbabe</td>\n",
              "      <td>Are you ready for your MoJo Makeover? Ask me f...</td>\n",
              "      <td>Tue</td>\n",
              "      <td>Jun</td>\n",
              "      <td>16</td>\n",
              "      <td>08:40:49</td>\n",
              "      <td>PDT</td>\n",
              "      <td>2009</td>\n",
              "    </tr>\n",
              "    <tr>\n",
              "      <th>1599998</th>\n",
              "      <td>4</td>\n",
              "      <td>2193602064</td>\n",
              "      <td>Tue Jun 16 08:40:49 PDT 2009</td>\n",
              "      <td>NO_QUERY</td>\n",
              "      <td>tinydiamondz</td>\n",
              "      <td>Happy 38th Birthday to my boo of alll time!!! ...</td>\n",
              "      <td>Tue</td>\n",
              "      <td>Jun</td>\n",
              "      <td>16</td>\n",
              "      <td>08:40:49</td>\n",
              "      <td>PDT</td>\n",
              "      <td>2009</td>\n",
              "    </tr>\n",
              "    <tr>\n",
              "      <th>1599999</th>\n",
              "      <td>4</td>\n",
              "      <td>2193602129</td>\n",
              "      <td>Tue Jun 16 08:40:50 PDT 2009</td>\n",
              "      <td>NO_QUERY</td>\n",
              "      <td>RyanTrevMorris</td>\n",
              "      <td>happy #charitytuesday @theNSPCC @SparksCharity...</td>\n",
              "      <td>Tue</td>\n",
              "      <td>Jun</td>\n",
              "      <td>16</td>\n",
              "      <td>08:40:50</td>\n",
              "      <td>PDT</td>\n",
              "      <td>2009</td>\n",
              "    </tr>\n",
              "  </tbody>\n",
              "</table>\n",
              "<p>1600000 rows × 12 columns</p>\n",
              "</div>\n",
              "      <button class=\"colab-df-convert\" onclick=\"convertToInteractive('df-5eb15860-d911-4e6c-be7d-0f19cd6dcb38')\"\n",
              "              title=\"Convert this dataframe to an interactive table.\"\n",
              "              style=\"display:none;\">\n",
              "        \n",
              "  <svg xmlns=\"http://www.w3.org/2000/svg\" height=\"24px\"viewBox=\"0 0 24 24\"\n",
              "       width=\"24px\">\n",
              "    <path d=\"M0 0h24v24H0V0z\" fill=\"none\"/>\n",
              "    <path d=\"M18.56 5.44l.94 2.06.94-2.06 2.06-.94-2.06-.94-.94-2.06-.94 2.06-2.06.94zm-11 1L8.5 8.5l.94-2.06 2.06-.94-2.06-.94L8.5 2.5l-.94 2.06-2.06.94zm10 10l.94 2.06.94-2.06 2.06-.94-2.06-.94-.94-2.06-.94 2.06-2.06.94z\"/><path d=\"M17.41 7.96l-1.37-1.37c-.4-.4-.92-.59-1.43-.59-.52 0-1.04.2-1.43.59L10.3 9.45l-7.72 7.72c-.78.78-.78 2.05 0 2.83L4 21.41c.39.39.9.59 1.41.59.51 0 1.02-.2 1.41-.59l7.78-7.78 2.81-2.81c.8-.78.8-2.07 0-2.86zM5.41 20L4 18.59l7.72-7.72 1.47 1.35L5.41 20z\"/>\n",
              "  </svg>\n",
              "      </button>\n",
              "      \n",
              "  <style>\n",
              "    .colab-df-container {\n",
              "      display:flex;\n",
              "      flex-wrap:wrap;\n",
              "      gap: 12px;\n",
              "    }\n",
              "\n",
              "    .colab-df-convert {\n",
              "      background-color: #E8F0FE;\n",
              "      border: none;\n",
              "      border-radius: 50%;\n",
              "      cursor: pointer;\n",
              "      display: none;\n",
              "      fill: #1967D2;\n",
              "      height: 32px;\n",
              "      padding: 0 0 0 0;\n",
              "      width: 32px;\n",
              "    }\n",
              "\n",
              "    .colab-df-convert:hover {\n",
              "      background-color: #E2EBFA;\n",
              "      box-shadow: 0px 1px 2px rgba(60, 64, 67, 0.3), 0px 1px 3px 1px rgba(60, 64, 67, 0.15);\n",
              "      fill: #174EA6;\n",
              "    }\n",
              "\n",
              "    [theme=dark] .colab-df-convert {\n",
              "      background-color: #3B4455;\n",
              "      fill: #D2E3FC;\n",
              "    }\n",
              "\n",
              "    [theme=dark] .colab-df-convert:hover {\n",
              "      background-color: #434B5C;\n",
              "      box-shadow: 0px 1px 3px 1px rgba(0, 0, 0, 0.15);\n",
              "      filter: drop-shadow(0px 1px 2px rgba(0, 0, 0, 0.3));\n",
              "      fill: #FFFFFF;\n",
              "    }\n",
              "  </style>\n",
              "\n",
              "      <script>\n",
              "        const buttonEl =\n",
              "          document.querySelector('#df-5eb15860-d911-4e6c-be7d-0f19cd6dcb38 button.colab-df-convert');\n",
              "        buttonEl.style.display =\n",
              "          google.colab.kernel.accessAllowed ? 'block' : 'none';\n",
              "\n",
              "        async function convertToInteractive(key) {\n",
              "          const element = document.querySelector('#df-5eb15860-d911-4e6c-be7d-0f19cd6dcb38');\n",
              "          const dataTable =\n",
              "            await google.colab.kernel.invokeFunction('convertToInteractive',\n",
              "                                                     [key], {});\n",
              "          if (!dataTable) return;\n",
              "\n",
              "          const docLinkHtml = 'Like what you see? Visit the ' +\n",
              "            '<a target=\"_blank\" href=https://colab.research.google.com/notebooks/data_table.ipynb>data table notebook</a>'\n",
              "            + ' to learn more about interactive tables.';\n",
              "          element.innerHTML = '';\n",
              "          dataTable['output_type'] = 'display_data';\n",
              "          await google.colab.output.renderOutput(dataTable, element);\n",
              "          const docLink = document.createElement('div');\n",
              "          docLink.innerHTML = docLinkHtml;\n",
              "          element.appendChild(docLink);\n",
              "        }\n",
              "      </script>\n",
              "    </div>\n",
              "  </div>\n",
              "  "
            ]
          },
          "metadata": {},
          "execution_count": 18
        }
      ],
      "source": [
        "df"
      ]
    },
    {
      "cell_type": "markdown",
      "source": [
        "# 4. Extract mentions"
      ],
      "metadata": {
        "id": "wNuN3KnQ5fFy"
      }
    },
    {
      "cell_type": "code",
      "execution_count": 8,
      "metadata": {
        "id": "04IClm3oUiRc",
        "colab": {
          "base_uri": "https://localhost:8080/"
        },
        "outputId": "7bc1a7f5-1181-42a8-b068-8ce1b2061943"
      },
      "outputs": [
        {
          "output_type": "stream",
          "name": "stdout",
          "text": [
            "@switchfoot http://twitpic.com/2y1zl - Awww, that's a bummer.  You shoulda got David Carr of Third Day to do it. ;D\n",
            "['switchfoot']\n"
          ]
        }
      ],
      "source": [
        "# write a regex to match the pattern for mention\n",
        "mentions_re = r'(?<=@)\\w+'\n",
        "# print the first tweet\n",
        "print(df[\"tweet\"].iloc[0])\n",
        "\"@switchfoot http://twitpic.com/2y1zl - Awww, that's a bummer.  You shoulda got David Carr of Third Day to do it. ;D\"\n",
        "\n",
        "# print the mention in the first tweet \n",
        "print(re.findall(mentions_re, df[\"tweet\"].iloc[0]))"
      ]
    },
    {
      "cell_type": "code",
      "execution_count": 11,
      "metadata": {
        "id": "QVsBibCLUiRc",
        "colab": {
          "base_uri": "https://localhost:8080/"
        },
        "outputId": "32c34e88-e1a4-4b49-e5b9-e6a23db5aefa"
      },
      "outputs": [
        {
          "output_type": "execute_result",
          "data": {
            "text/plain": [
              "mileycyrus       4580\n",
              "tommcfly         3904\n",
              "ddlovato         3474\n",
              "jonasbrothers    2384\n",
              "davidarchie      1386\n",
              "Name: mentions, dtype: int64"
            ]
          },
          "metadata": {},
          "execution_count": 11
        }
      ],
      "source": [
        "# write a function to extract all of the mentions from each tweet\n",
        "def extract_mentions(full_texts):\n",
        "   mentions = pd.DataFrame(full_texts.str.lower().str.findall(mentions_re).explode().dropna())\n",
        "   mentions.columns = [\"mentions\"]\n",
        "   mentions = mentions.merge(df['label'], left_index=True, right_index=True, how='left')\n",
        "   return mentions\n",
        "\n",
        "# apply the function to the tweet column\n",
        "mentions = extract_mentions(df['tweet'])\n",
        "mentions['mentions'].value_counts()[:5]"
      ]
    },
    {
      "cell_type": "code",
      "source": [
        "# pivot the table\n",
        "by_week = pd.pivot_table(df, values='year', index=['label'], columns=['week'], aggfunc='count')\n",
        "cols = ['Fri', 'Mon', 'Sat', 'Sun', 'Thu', 'Tue', 'Wed']\n",
        "by_week[cols] = by_week[cols] / by_week[cols].sum()\n",
        "by_week = by_week.transpose()\n",
        "by_week.index.name = None\n",
        "by_week.columns.name = None\n",
        "\n",
        "# plot the proportion of tweets with negative polarity across the whole week\n",
        "sns.lineplot(data=by_week, x=by_week.index, y=0)\n",
        "plt.title('')\n",
        "plt.legend(loc=2)\n",
        "plt.xlabel(\"Week of the Day\")\n",
        "plt.ylabel(\"Average Polarity\")\n",
        "plt.show()"
      ],
      "metadata": {
        "colab": {
          "base_uri": "https://localhost:8080/",
          "height": 296
        },
        "id": "s95h62S_MydU",
        "outputId": "4facb9b6-f0e4-46cb-8dee-409e24408cee"
      },
      "execution_count": 15,
      "outputs": [
        {
          "output_type": "stream",
          "name": "stderr",
          "text": [
            "WARNING:matplotlib.legend:No handles with labels found to put in legend.\n"
          ]
        },
        {
          "output_type": "display_data",
          "data": {
            "text/plain": [
              "<Figure size 432x288 with 1 Axes>"
            ],
            "image/png": "[encoded data removed]"
          },
          "metadata": {
            "needs_background": "light"
          }
        }
      ]
    }
  ],
  "metadata": {
    "accelerator": "GPU",
    "colab": {
      "collapsed_sections": [],
      "provenance": [],
      "include_colab_link": true
    },
    "kernelspec": {
      "display_name": "Python 3 (ipykernel)",
      "language": "python",
      "name": "python3"
    },
    "language_info": {
      "codemirror_mode": {
        "name": "ipython",
        "version": 3
      },
      "file_extension": ".py",
      "mimetype": "text/x-python",
      "name": "python",
      "nbconvert_exporter": "python",
      "pygments_lexer": "ipython3",
      "version": "3.9.12"
    }
  },
  "nbformat": 4,
  "nbformat_minor": 0
}